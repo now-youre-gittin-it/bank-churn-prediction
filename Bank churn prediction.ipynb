{
 "cells": [
  {
   "cell_type": "markdown",
   "metadata": {},
   "source": [
    "# Bank Customer Churn Prediction using Tree-based Methods"
   ]
  },
  {
   "cell_type": "markdown",
   "metadata": {},
   "source": [
    "It is believed that tree-based methods routinely outperform neural networks. Lets find out if tree-based methods give us better accuracy/precision in analyzing our customer churn dataset."
   ]
  },
  {
   "cell_type": "code",
   "execution_count": 36,
   "metadata": {},
   "outputs": [],
   "source": [
    "import pandas as pd\n",
    "from matplotlib import pyplot as plt\n",
    "import numpy as np\n",
    "%matplotlib inline"
   ]
  },
  {
   "cell_type": "markdown",
   "metadata": {},
   "source": [
    "### Loading data"
   ]
  },
  {
   "cell_type": "code",
   "execution_count": 37,
   "metadata": {},
   "outputs": [
    {
     "data": {
      "text/html": [
       "<div>\n",
       "<style scoped>\n",
       "    .dataframe tbody tr th:only-of-type {\n",
       "        vertical-align: middle;\n",
       "    }\n",
       "\n",
       "    .dataframe tbody tr th {\n",
       "        vertical-align: top;\n",
       "    }\n",
       "\n",
       "    .dataframe thead th {\n",
       "        text-align: right;\n",
       "    }\n",
       "</style>\n",
       "<table border=\"1\" class=\"dataframe\">\n",
       "  <thead>\n",
       "    <tr style=\"text-align: right;\">\n",
       "      <th></th>\n",
       "      <th>RowNumber</th>\n",
       "      <th>CustomerId</th>\n",
       "      <th>Surname</th>\n",
       "      <th>CreditScore</th>\n",
       "      <th>Geography</th>\n",
       "      <th>Gender</th>\n",
       "      <th>Age</th>\n",
       "      <th>Tenure</th>\n",
       "      <th>Balance</th>\n",
       "      <th>NumOfProducts</th>\n",
       "      <th>HasCrCard</th>\n",
       "      <th>IsActiveMember</th>\n",
       "      <th>EstimatedSalary</th>\n",
       "      <th>Exited</th>\n",
       "    </tr>\n",
       "  </thead>\n",
       "  <tbody>\n",
       "    <tr>\n",
       "      <th>9754</th>\n",
       "      <td>9755</td>\n",
       "      <td>15572114</td>\n",
       "      <td>Shih</td>\n",
       "      <td>673</td>\n",
       "      <td>Spain</td>\n",
       "      <td>Male</td>\n",
       "      <td>40</td>\n",
       "      <td>1</td>\n",
       "      <td>121629.22</td>\n",
       "      <td>1</td>\n",
       "      <td>1</td>\n",
       "      <td>1</td>\n",
       "      <td>3258.60</td>\n",
       "      <td>0</td>\n",
       "    </tr>\n",
       "    <tr>\n",
       "      <th>7171</th>\n",
       "      <td>7172</td>\n",
       "      <td>15744273</td>\n",
       "      <td>Waterhouse</td>\n",
       "      <td>637</td>\n",
       "      <td>Germany</td>\n",
       "      <td>Male</td>\n",
       "      <td>30</td>\n",
       "      <td>6</td>\n",
       "      <td>122641.56</td>\n",
       "      <td>2</td>\n",
       "      <td>1</td>\n",
       "      <td>0</td>\n",
       "      <td>65618.01</td>\n",
       "      <td>0</td>\n",
       "    </tr>\n",
       "    <tr>\n",
       "      <th>7912</th>\n",
       "      <td>7913</td>\n",
       "      <td>15652169</td>\n",
       "      <td>Buckley</td>\n",
       "      <td>642</td>\n",
       "      <td>France</td>\n",
       "      <td>Male</td>\n",
       "      <td>35</td>\n",
       "      <td>2</td>\n",
       "      <td>133161.95</td>\n",
       "      <td>1</td>\n",
       "      <td>0</td>\n",
       "      <td>1</td>\n",
       "      <td>122254.86</td>\n",
       "      <td>0</td>\n",
       "    </tr>\n",
       "    <tr>\n",
       "      <th>6274</th>\n",
       "      <td>6275</td>\n",
       "      <td>15661275</td>\n",
       "      <td>Wynn</td>\n",
       "      <td>532</td>\n",
       "      <td>Germany</td>\n",
       "      <td>Male</td>\n",
       "      <td>52</td>\n",
       "      <td>3</td>\n",
       "      <td>110791.97</td>\n",
       "      <td>1</td>\n",
       "      <td>1</td>\n",
       "      <td>0</td>\n",
       "      <td>148704.77</td>\n",
       "      <td>1</td>\n",
       "    </tr>\n",
       "    <tr>\n",
       "      <th>639</th>\n",
       "      <td>640</td>\n",
       "      <td>15798398</td>\n",
       "      <td>Pagnotto</td>\n",
       "      <td>785</td>\n",
       "      <td>France</td>\n",
       "      <td>Female</td>\n",
       "      <td>36</td>\n",
       "      <td>4</td>\n",
       "      <td>135438.40</td>\n",
       "      <td>1</td>\n",
       "      <td>0</td>\n",
       "      <td>0</td>\n",
       "      <td>190627.01</td>\n",
       "      <td>0</td>\n",
       "    </tr>\n",
       "  </tbody>\n",
       "</table>\n",
       "</div>"
      ],
      "text/plain": [
       "      RowNumber  CustomerId     Surname  CreditScore Geography  Gender  Age  \\\n",
       "9754       9755    15572114        Shih          673     Spain    Male   40   \n",
       "7171       7172    15744273  Waterhouse          637   Germany    Male   30   \n",
       "7912       7913    15652169     Buckley          642    France    Male   35   \n",
       "6274       6275    15661275        Wynn          532   Germany    Male   52   \n",
       "639         640    15798398    Pagnotto          785    France  Female   36   \n",
       "\n",
       "      Tenure    Balance  NumOfProducts  HasCrCard  IsActiveMember  \\\n",
       "9754       1  121629.22              1          1               1   \n",
       "7171       6  122641.56              2          1               0   \n",
       "7912       2  133161.95              1          0               1   \n",
       "6274       3  110791.97              1          1               0   \n",
       "639        4  135438.40              1          0               0   \n",
       "\n",
       "      EstimatedSalary  Exited  \n",
       "9754          3258.60       0  \n",
       "7171         65618.01       0  \n",
       "7912        122254.86       0  \n",
       "6274        148704.77       1  \n",
       "639         190627.01       0  "
      ]
     },
     "execution_count": 37,
     "metadata": {},
     "output_type": "execute_result"
    }
   ],
   "source": [
    "df = pd.read_csv(\"Churn_Modelling.csv\")\n",
    "df.sample(5)"
   ]
  },
  {
   "cell_type": "code",
   "execution_count": 38,
   "metadata": {},
   "outputs": [
    {
     "data": {
      "text/plain": [
       "(10000, 14)"
      ]
     },
     "execution_count": 38,
     "metadata": {},
     "output_type": "execute_result"
    }
   ],
   "source": [
    "df.shape\n",
    "#So we have 10k customer records and 14 dimensinos"
   ]
  },
  {
   "cell_type": "code",
   "execution_count": 39,
   "metadata": {},
   "outputs": [
    {
     "data": {
      "text/plain": [
       "RowNumber            int64\n",
       "CustomerId           int64\n",
       "Surname             object\n",
       "CreditScore          int64\n",
       "Geography           object\n",
       "Gender              object\n",
       "Age                  int64\n",
       "Tenure               int64\n",
       "Balance            float64\n",
       "NumOfProducts        int64\n",
       "HasCrCard            int64\n",
       "IsActiveMember       int64\n",
       "EstimatedSalary    float64\n",
       "Exited               int64\n",
       "dtype: object"
      ]
     },
     "execution_count": 39,
     "metadata": {},
     "output_type": "execute_result"
    }
   ],
   "source": [
    "df.dtypes"
   ]
  },
  {
   "cell_type": "code",
   "execution_count": 40,
   "metadata": {},
   "outputs": [],
   "source": [
    "# Run a few describe() calls to explore columns. But more efficient way is using unique(), done in next cell\n",
    "# df['Exited'].describe() # This is the target column containing churn status\n",
    "# df['EstimatedSalary'].describe()\n",
    "# df['CreditScore'].describe()"
   ]
  },
  {
   "cell_type": "code",
   "execution_count": 41,
   "metadata": {},
   "outputs": [
    {
     "name": "stdout",
     "output_type": "stream",
     "text": [
      "RowNumber: [    1     2     3 ...  9998  9999 10000]\n",
      "CustomerId: [15634602 15647311 15619304 ... 15584532 15682355 15628319]\n",
      "Surname: ['Hargrave' 'Hill' 'Onio' ... 'Kashiwagi' 'Aldridge' 'Burbidge']\n",
      "CreditScore: [619 608 502 699 850 645 822 376 501 684 528 497 476 549 635 616 653 587\n",
      " 726 732 636 510 669 846 577 756 571 574 411 591 533 553 520 722 475 490\n",
      " 804 582 472 465 556 834 660 776 829 637 550 698 585 788 655 601 656 725\n",
      " 511 614 742 687 555 603 751 581 735 661 675 738 813 657 604 519 664 678\n",
      " 757 416 665 777 543 506 493 652 750 729 646 647 808 524 769 730 515 773\n",
      " 814 710 413 623 670 622 785 605 479 685 538 562 721 628 668 828 674 625\n",
      " 432 770 758 795 686 789 589 461 584 579 663 682 793 691 485 650 754 535\n",
      " 716 539 706 586 631 717 800 683 704 615 667 484 480 578 512 606 597 778\n",
      " 514 525 715 580 807 521 759 516 711 618 643 671 689 620 676 572 695 592\n",
      " 567 694 547 594 673 610 767 763 712 703 662 659 523 772 545 634 739 771\n",
      " 681 544 696 766 727 693 557 531 498 651 791 733 811 707 714 782 775 799\n",
      " 602 744 588 747 583 627 731 629 438 642 806 474 559 429 680 749 734 644\n",
      " 626 649 805 718 840 630 654 762 568 613 522 737 648 443 640 540 460 593\n",
      " 801 611 802 745 483 690 492 709 705 560 752 701 537 487 596 702 486 724\n",
      " 548 464 790 534 748 494 590 468 509 818 816 536 753 774 621 569 658 798\n",
      " 641 542 692 639 765 570 638 599 632 779 527 564 833 504 842 508 417 598\n",
      " 741 607 761 848 546 439 755 760 526 713 700 666 566 495 688 612 477 427\n",
      " 839 819 720 459 503 624 529 563 482 796 445 746 786 554 672 787 499 844\n",
      " 450 815 838 803 736 633 600 679 517 792 743 488 421 841 708 507 505 456\n",
      " 435 561 518 565 728 784 552 609 764 697 723 551 444 719 496 541 830 812\n",
      " 677 420 595 617 809 500 826 434 513 478 797 363 399 463 780 452 575 837\n",
      " 794 824 428 823 781 849 489 431 457 768 831 359 820 573 576 558 817 449\n",
      " 440 415 821 530 350 446 425 740 481 783 358 845 451 458 469 423 404 836\n",
      " 473 835 466 491 351 827 843 365 532 414 453 471 401 810 832 470 447 422\n",
      " 825 430 436 426 408 847 418 437 410 454 407 455 462 386 405 383 395 467\n",
      " 433 442 424 448 441 367 412 382 373 419]\n",
      "Geography: ['France' 'Spain' 'Germany']\n",
      "Gender: ['Female' 'Male']\n",
      "Age: [42 41 39 43 44 50 29 27 31 24 34 25 35 45 58 32 38 46 36 33 40 51 61 49\n",
      " 37 19 66 56 26 21 55 75 22 30 28 65 48 52 57 73 47 54 72 20 67 79 62 53\n",
      " 80 59 68 23 60 70 63 64 18 82 69 74 71 76 77 88 85 84 78 81 92 83]\n",
      "Tenure: [ 2  1  8  7  4  6  3 10  5  9  0]\n",
      "Balance: [     0.    83807.86 159660.8  ...  57369.61  75075.31 130142.79]\n",
      "NumOfProducts: [1 3 2 4]\n",
      "HasCrCard: [1 0]\n",
      "IsActiveMember: [1 0]\n",
      "EstimatedSalary: [101348.88 112542.58 113931.57 ...  42085.58  92888.52  38190.78]\n",
      "Exited: [1 0]\n"
     ]
    }
   ],
   "source": [
    "# Find out nature of values in each column so that we can eliminate unnecessary cols and figure out further preprocessing\n",
    "for col in df:\n",
    "    print(f'{col}: {df[col].unique()}') "
   ]
  },
  {
   "cell_type": "markdown",
   "metadata": {},
   "source": [
    "Above results show us that there are a few columns that can be removed. There are a few categorical columns that will need to be encoded for subsequent analysis."
   ]
  },
  {
   "cell_type": "code",
   "execution_count": 42,
   "metadata": {},
   "outputs": [],
   "source": [
    "# Drop columns that wont be used for analysis\n",
    "df1= df.drop(['RowNumber','CustomerId','Surname'],axis=1)\n"
   ]
  },
  {
   "cell_type": "code",
   "execution_count": 43,
   "metadata": {},
   "outputs": [
    {
     "data": {
      "text/plain": [
       "(10000, 11)"
      ]
     },
     "execution_count": 43,
     "metadata": {},
     "output_type": "execute_result"
    }
   ],
   "source": [
    "df1.shape\n",
    "# We have 10k customer records and 11 dimensions. Will drop Exited column later as its target column\n",
    "# So in the end there will be 10 useful dimensions"
   ]
  },
  {
   "cell_type": "markdown",
   "metadata": {},
   "source": [
    "We have to check for null/NaN values and take steps if they are found."
   ]
  },
  {
   "cell_type": "code",
   "execution_count": 44,
   "metadata": {},
   "outputs": [
    {
     "name": "stdout",
     "output_type": "stream",
     "text": [
      "No null values in any column.\n"
     ]
    }
   ],
   "source": [
    "# Check for null values in each column\n",
    "null_columns = df1.columns[df1.isnull().any()]\n",
    "null_columns\n",
    "\n",
    "# If there are null values, print out the column names\n",
    "if null_columns.empty:\n",
    "    print(\"No null values in any column.\")\n",
    "else:\n",
    "    print(\"Null values found in the following columns:\")\n",
    "    print(null_columns.tolist())"
   ]
  },
  {
   "cell_type": "markdown",
   "metadata": {},
   "source": [
    "No null values, so preprocessing to tackle them is not necessary."
   ]
  },
  {
   "cell_type": "markdown",
   "metadata": {},
   "source": [
    "### Data viz to explore churn patterns"
   ]
  },
  {
   "cell_type": "code",
   "execution_count": 45,
   "metadata": {},
   "outputs": [
    {
     "data": {
      "text/plain": [
       "<matplotlib.legend.Legend at 0x1c13f91ea90>"
      ]
     },
     "execution_count": 45,
     "metadata": {},
     "output_type": "execute_result"
    },
    {
     "data": {
      "image/png": "[encoded data removed]",
      "text/plain": [
       "<Figure size 432x288 with 1 Axes>"
      ]
     },
     "metadata": {
      "needs_background": "light"
     },
     "output_type": "display_data"
    }
   ],
   "source": [
    "tenure_churn_no = df1[df1.Exited==0].Tenure\n",
    "tenure_churn_yes = df1[df1.Exited==1].Tenure\n",
    "\n",
    "plt.xlabel(\"Tenure\")\n",
    "plt.ylabel(\"Number Of Customers\")\n",
    "plt.title(\"Customer Churn Visualization\")\n",
    "\n",
    "# Plot histogram of customer churn as a function of the tenure (i.e. no of years they have been a customer of the bank)\n",
    "plt.hist([tenure_churn_yes, tenure_churn_no], rwidth=0.95, color=['green','red'],label=['Churn=Yes','Churn=No'])\n",
    "plt.legend()"
   ]
  },
  {
   "cell_type": "code",
   "execution_count": 46,
   "metadata": {},
   "outputs": [
    {
     "data": {
      "text/plain": [
       "<matplotlib.legend.Legend at 0x1c12d4aeaf0>"
      ]
     },
     "execution_count": 46,
     "metadata": {},
     "output_type": "execute_result"
    },
    {
     "data": {
      "image/png": "[encoded data removed]",
      "text/plain": [
       "<Figure size 432x288 with 1 Axes>"
      ]
     },
     "metadata": {
      "needs_background": "light"
     },
     "output_type": "display_data"
    }
   ],
   "source": [
    "CreditScore_no = df1[df1.Exited==0].CreditScore      \n",
    "CreditScore_yes = df1[df1.Exited==1].CreditScore      \n",
    "\n",
    "\n",
    "plt.xlabel(\"CreditScore\")\n",
    "plt.ylabel(\"Number Of Customers\")\n",
    "plt.title(\"Customer Churn Visualization\")\n",
    "\n",
    "# Plot histogram of customer churn as a function of the customer credit scores\n",
    "plt.hist([CreditScore_yes, CreditScore_no], rwidth=0.95, color=['green','red'],label=['Churn=Yes','Churn=No'])\n",
    "plt.legend()\n"
   ]
  },
  {
   "cell_type": "code",
   "execution_count": 47,
   "metadata": {},
   "outputs": [
    {
     "data": {
      "text/plain": [
       "<matplotlib.legend.Legend at 0x1c13f964730>"
      ]
     },
     "execution_count": 47,
     "metadata": {},
     "output_type": "execute_result"
    },
    {
     "data": {
      "image/png": "[encoded data removed]",
      "text/plain": [
       "<Figure size 432x288 with 1 Axes>"
      ]
     },
     "metadata": {
      "needs_background": "light"
     },
     "output_type": "display_data"
    }
   ],
   "source": [
    "HasCrCard_no = df1[df1.Exited==0].HasCrCard      \n",
    "HasCrCard_yes = df1[df1.Exited==1].HasCrCard      \n",
    "\n",
    "\n",
    "plt.xlabel(\"HasCrCard\")\n",
    "plt.ylabel(\"Number Of Customers\")\n",
    "plt.title(\"Customer Churn Visualization\")\n",
    "\n",
    "# Plot histogram of customer churn as a function of the customer credit scores\n",
    "plt.hist([HasCrCard_yes, HasCrCard_no], rwidth=0.95, color=['green','red'],label=['Churn=1 (Yes)','Churn=0 (No)'])\n",
    "plt.legend()\n"
   ]
  },
  {
   "cell_type": "markdown",
   "metadata": {},
   "source": [
    "### Tackling Categorical Variables"
   ]
  },
  {
   "cell_type": "code",
   "execution_count": 48,
   "metadata": {},
   "outputs": [
    {
     "name": "stdout",
     "output_type": "stream",
     "text": [
      "CreditScore : [619 608 502 699 850 645 822 376 501 684 528 497 476 549 635 616 653 587\n",
      " 726 732 636 510 669 846 577 756 571 574 411 591 533 553 520 722 475 490\n",
      " 804 582 472 465 556 834 660 776 829 637 550 698 585 788 655 601 656 725\n",
      " 511 614 742 687 555 603 751 581 735 661 675 738 813 657 604 519 664 678\n",
      " 757 416 665 777 543 506 493 652 750 729 646 647 808 524 769 730 515 773\n",
      " 814 710 413 623 670 622 785 605 479 685 538 562 721 628 668 828 674 625\n",
      " 432 770 758 795 686 789 589 461 584 579 663 682 793 691 485 650 754 535\n",
      " 716 539 706 586 631 717 800 683 704 615 667 484 480 578 512 606 597 778\n",
      " 514 525 715 580 807 521 759 516 711 618 643 671 689 620 676 572 695 592\n",
      " 567 694 547 594 673 610 767 763 712 703 662 659 523 772 545 634 739 771\n",
      " 681 544 696 766 727 693 557 531 498 651 791 733 811 707 714 782 775 799\n",
      " 602 744 588 747 583 627 731 629 438 642 806 474 559 429 680 749 734 644\n",
      " 626 649 805 718 840 630 654 762 568 613 522 737 648 443 640 540 460 593\n",
      " 801 611 802 745 483 690 492 709 705 560 752 701 537 487 596 702 486 724\n",
      " 548 464 790 534 748 494 590 468 509 818 816 536 753 774 621 569 658 798\n",
      " 641 542 692 639 765 570 638 599 632 779 527 564 833 504 842 508 417 598\n",
      " 741 607 761 848 546 439 755 760 526 713 700 666 566 495 688 612 477 427\n",
      " 839 819 720 459 503 624 529 563 482 796 445 746 786 554 672 787 499 844\n",
      " 450 815 838 803 736 633 600 679 517 792 743 488 421 841 708 507 505 456\n",
      " 435 561 518 565 728 784 552 609 764 697 723 551 444 719 496 541 830 812\n",
      " 677 420 595 617 809 500 826 434 513 478 797 363 399 463 780 452 575 837\n",
      " 794 824 428 823 781 849 489 431 457 768 831 359 820 573 576 558 817 449\n",
      " 440 415 821 530 350 446 425 740 481 783 358 845 451 458 469 423 404 836\n",
      " 473 835 466 491 351 827 843 365 532 414 453 471 401 810 832 470 447 422\n",
      " 825 430 436 426 408 847 418 437 410 454 407 455 462 386 405 383 395 467\n",
      " 433 442 424 448 441 367 412 382 373 419]\n",
      "Geography : ['France' 'Spain' 'Germany']\n",
      "Gender : ['Female' 'Male']\n",
      "Age : [42 41 39 43 44 50 29 27 31 24 34 25 35 45 58 32 38 46 36 33 40 51 61 49\n",
      " 37 19 66 56 26 21 55 75 22 30 28 65 48 52 57 73 47 54 72 20 67 79 62 53\n",
      " 80 59 68 23 60 70 63 64 18 82 69 74 71 76 77 88 85 84 78 81 92 83]\n",
      "Tenure : [ 2  1  8  7  4  6  3 10  5  9  0]\n",
      "Balance : [     0.    83807.86 159660.8  ...  57369.61  75075.31 130142.79]\n",
      "NumOfProducts : [1 3 2 4]\n",
      "HasCrCard : [1 0]\n",
      "IsActiveMember : [1 0]\n",
      "EstimatedSalary : [101348.88 112542.58 113931.57 ...  42085.58  92888.52  38190.78]\n",
      "Exited : [1 0]\n"
     ]
    }
   ],
   "source": [
    "# Identify which cols have categorical values by printing list of unique values in each column\n",
    "for col in df1:\n",
    "    print(col,':', df1[col].unique()) "
   ]
  },
  {
   "cell_type": "markdown",
   "metadata": {},
   "source": [
    "Above result shows us that Geography, Gender, HasCrCard and IsActiveMember are categorical variables.\n",
    "Exited is also categorical (target variable). We will drop it later."
   ]
  },
  {
   "cell_type": "code",
   "execution_count": 49,
   "metadata": {},
   "outputs": [
    {
     "data": {
      "text/html": [
       "<div>\n",
       "<style scoped>\n",
       "    .dataframe tbody tr th:only-of-type {\n",
       "        vertical-align: middle;\n",
       "    }\n",
       "\n",
       "    .dataframe tbody tr th {\n",
       "        vertical-align: top;\n",
       "    }\n",
       "\n",
       "    .dataframe thead th {\n",
       "        text-align: right;\n",
       "    }\n",
       "</style>\n",
       "<table border=\"1\" class=\"dataframe\">\n",
       "  <thead>\n",
       "    <tr style=\"text-align: right;\">\n",
       "      <th></th>\n",
       "      <th>CreditScore</th>\n",
       "      <th>Geography</th>\n",
       "      <th>Gender</th>\n",
       "      <th>Age</th>\n",
       "      <th>Tenure</th>\n",
       "      <th>Balance</th>\n",
       "      <th>NumOfProducts</th>\n",
       "      <th>HasCrCard</th>\n",
       "      <th>IsActiveMember</th>\n",
       "      <th>EstimatedSalary</th>\n",
       "      <th>Exited</th>\n",
       "    </tr>\n",
       "  </thead>\n",
       "  <tbody>\n",
       "    <tr>\n",
       "      <th>0</th>\n",
       "      <td>619</td>\n",
       "      <td>France</td>\n",
       "      <td>1</td>\n",
       "      <td>42</td>\n",
       "      <td>2</td>\n",
       "      <td>0.00</td>\n",
       "      <td>1</td>\n",
       "      <td>1</td>\n",
       "      <td>1</td>\n",
       "      <td>101348.88</td>\n",
       "      <td>1</td>\n",
       "    </tr>\n",
       "    <tr>\n",
       "      <th>1</th>\n",
       "      <td>608</td>\n",
       "      <td>Spain</td>\n",
       "      <td>1</td>\n",
       "      <td>41</td>\n",
       "      <td>1</td>\n",
       "      <td>83807.86</td>\n",
       "      <td>1</td>\n",
       "      <td>0</td>\n",
       "      <td>1</td>\n",
       "      <td>112542.58</td>\n",
       "      <td>0</td>\n",
       "    </tr>\n",
       "    <tr>\n",
       "      <th>2</th>\n",
       "      <td>502</td>\n",
       "      <td>France</td>\n",
       "      <td>1</td>\n",
       "      <td>42</td>\n",
       "      <td>8</td>\n",
       "      <td>159660.80</td>\n",
       "      <td>3</td>\n",
       "      <td>1</td>\n",
       "      <td>0</td>\n",
       "      <td>113931.57</td>\n",
       "      <td>1</td>\n",
       "    </tr>\n",
       "    <tr>\n",
       "      <th>3</th>\n",
       "      <td>699</td>\n",
       "      <td>France</td>\n",
       "      <td>1</td>\n",
       "      <td>39</td>\n",
       "      <td>1</td>\n",
       "      <td>0.00</td>\n",
       "      <td>2</td>\n",
       "      <td>0</td>\n",
       "      <td>0</td>\n",
       "      <td>93826.63</td>\n",
       "      <td>0</td>\n",
       "    </tr>\n",
       "    <tr>\n",
       "      <th>4</th>\n",
       "      <td>850</td>\n",
       "      <td>Spain</td>\n",
       "      <td>1</td>\n",
       "      <td>43</td>\n",
       "      <td>2</td>\n",
       "      <td>125510.82</td>\n",
       "      <td>1</td>\n",
       "      <td>1</td>\n",
       "      <td>1</td>\n",
       "      <td>79084.10</td>\n",
       "      <td>0</td>\n",
       "    </tr>\n",
       "    <tr>\n",
       "      <th>5</th>\n",
       "      <td>645</td>\n",
       "      <td>Spain</td>\n",
       "      <td>0</td>\n",
       "      <td>44</td>\n",
       "      <td>8</td>\n",
       "      <td>113755.78</td>\n",
       "      <td>2</td>\n",
       "      <td>1</td>\n",
       "      <td>0</td>\n",
       "      <td>149756.71</td>\n",
       "      <td>1</td>\n",
       "    </tr>\n",
       "    <tr>\n",
       "      <th>6</th>\n",
       "      <td>822</td>\n",
       "      <td>France</td>\n",
       "      <td>0</td>\n",
       "      <td>50</td>\n",
       "      <td>7</td>\n",
       "      <td>0.00</td>\n",
       "      <td>2</td>\n",
       "      <td>1</td>\n",
       "      <td>1</td>\n",
       "      <td>10062.80</td>\n",
       "      <td>0</td>\n",
       "    </tr>\n",
       "    <tr>\n",
       "      <th>7</th>\n",
       "      <td>376</td>\n",
       "      <td>Germany</td>\n",
       "      <td>1</td>\n",
       "      <td>29</td>\n",
       "      <td>4</td>\n",
       "      <td>115046.74</td>\n",
       "      <td>4</td>\n",
       "      <td>1</td>\n",
       "      <td>0</td>\n",
       "      <td>119346.88</td>\n",
       "      <td>1</td>\n",
       "    </tr>\n",
       "    <tr>\n",
       "      <th>8</th>\n",
       "      <td>501</td>\n",
       "      <td>France</td>\n",
       "      <td>0</td>\n",
       "      <td>44</td>\n",
       "      <td>4</td>\n",
       "      <td>142051.07</td>\n",
       "      <td>2</td>\n",
       "      <td>0</td>\n",
       "      <td>1</td>\n",
       "      <td>74940.50</td>\n",
       "      <td>0</td>\n",
       "    </tr>\n",
       "    <tr>\n",
       "      <th>9</th>\n",
       "      <td>684</td>\n",
       "      <td>France</td>\n",
       "      <td>0</td>\n",
       "      <td>27</td>\n",
       "      <td>2</td>\n",
       "      <td>134603.88</td>\n",
       "      <td>1</td>\n",
       "      <td>1</td>\n",
       "      <td>1</td>\n",
       "      <td>71725.73</td>\n",
       "      <td>0</td>\n",
       "    </tr>\n",
       "  </tbody>\n",
       "</table>\n",
       "</div>"
      ],
      "text/plain": [
       "   CreditScore Geography  Gender  Age  Tenure    Balance  NumOfProducts  \\\n",
       "0          619    France       1   42       2       0.00              1   \n",
       "1          608     Spain       1   41       1   83807.86              1   \n",
       "2          502    France       1   42       8  159660.80              3   \n",
       "3          699    France       1   39       1       0.00              2   \n",
       "4          850     Spain       1   43       2  125510.82              1   \n",
       "5          645     Spain       0   44       8  113755.78              2   \n",
       "6          822    France       0   50       7       0.00              2   \n",
       "7          376   Germany       1   29       4  115046.74              4   \n",
       "8          501    France       0   44       4  142051.07              2   \n",
       "9          684    France       0   27       2  134603.88              1   \n",
       "\n",
       "   HasCrCard  IsActiveMember  EstimatedSalary  Exited  \n",
       "0          1               1        101348.88       1  \n",
       "1          0               1        112542.58       0  \n",
       "2          1               0        113931.57       1  \n",
       "3          0               0         93826.63       0  \n",
       "4          1               1         79084.10       0  \n",
       "5          1               0        149756.71       1  \n",
       "6          1               1         10062.80       0  \n",
       "7          1               0        119346.88       1  \n",
       "8          0               1         74940.50       0  \n",
       "9          1               1         71725.73       0  "
      ]
     },
     "execution_count": 49,
     "metadata": {},
     "output_type": "execute_result"
    }
   ],
   "source": [
    "# Need to replace Female and Male with 0 and 1\n",
    "# We dont need a new col for this so using inplace=true param will update the existing DF col itself\n",
    "df1['Gender'].replace({'Female':1,'Male':0},inplace=True)\n",
    "df1.head(10)"
   ]
  },
  {
   "cell_type": "markdown",
   "metadata": {},
   "source": [
    "Geography will need one hot encoding as it is not binary and not ordinal."
   ]
  },
  {
   "cell_type": "code",
   "execution_count": 50,
   "metadata": {},
   "outputs": [
    {
     "data": {
      "text/plain": [
       "Index(['CreditScore', 'Gender', 'Age', 'Tenure', 'Balance', 'NumOfProducts',\n",
       "       'HasCrCard', 'IsActiveMember', 'EstimatedSalary', 'Exited',\n",
       "       'Geography_France', 'Geography_Germany', 'Geography_Spain'],\n",
       "      dtype='object')"
      ]
     },
     "execution_count": 50,
     "metadata": {},
     "output_type": "execute_result"
    }
   ],
   "source": [
    "df2 = pd.get_dummies(data=df1, columns=['Geography'])\n",
    "df2.columns"
   ]
  },
  {
   "cell_type": "code",
   "execution_count": 51,
   "metadata": {},
   "outputs": [
    {
     "data": {
      "text/html": [
       "<div>\n",
       "<style scoped>\n",
       "    .dataframe tbody tr th:only-of-type {\n",
       "        vertical-align: middle;\n",
       "    }\n",
       "\n",
       "    .dataframe tbody tr th {\n",
       "        vertical-align: top;\n",
       "    }\n",
       "\n",
       "    .dataframe thead th {\n",
       "        text-align: right;\n",
       "    }\n",
       "</style>\n",
       "<table border=\"1\" class=\"dataframe\">\n",
       "  <thead>\n",
       "    <tr style=\"text-align: right;\">\n",
       "      <th></th>\n",
       "      <th>CreditScore</th>\n",
       "      <th>Gender</th>\n",
       "      <th>Age</th>\n",
       "      <th>Tenure</th>\n",
       "      <th>Balance</th>\n",
       "      <th>NumOfProducts</th>\n",
       "      <th>HasCrCard</th>\n",
       "      <th>IsActiveMember</th>\n",
       "      <th>EstimatedSalary</th>\n",
       "      <th>Exited</th>\n",
       "      <th>Geography_France</th>\n",
       "      <th>Geography_Germany</th>\n",
       "      <th>Geography_Spain</th>\n",
       "    </tr>\n",
       "  </thead>\n",
       "  <tbody>\n",
       "    <tr>\n",
       "      <th>0</th>\n",
       "      <td>619</td>\n",
       "      <td>1</td>\n",
       "      <td>42</td>\n",
       "      <td>2</td>\n",
       "      <td>0.00</td>\n",
       "      <td>1</td>\n",
       "      <td>1</td>\n",
       "      <td>1</td>\n",
       "      <td>101348.88</td>\n",
       "      <td>1</td>\n",
       "      <td>1</td>\n",
       "      <td>0</td>\n",
       "      <td>0</td>\n",
       "    </tr>\n",
       "    <tr>\n",
       "      <th>1</th>\n",
       "      <td>608</td>\n",
       "      <td>1</td>\n",
       "      <td>41</td>\n",
       "      <td>1</td>\n",
       "      <td>83807.86</td>\n",
       "      <td>1</td>\n",
       "      <td>0</td>\n",
       "      <td>1</td>\n",
       "      <td>112542.58</td>\n",
       "      <td>0</td>\n",
       "      <td>0</td>\n",
       "      <td>0</td>\n",
       "      <td>1</td>\n",
       "    </tr>\n",
       "    <tr>\n",
       "      <th>2</th>\n",
       "      <td>502</td>\n",
       "      <td>1</td>\n",
       "      <td>42</td>\n",
       "      <td>8</td>\n",
       "      <td>159660.80</td>\n",
       "      <td>3</td>\n",
       "      <td>1</td>\n",
       "      <td>0</td>\n",
       "      <td>113931.57</td>\n",
       "      <td>1</td>\n",
       "      <td>1</td>\n",
       "      <td>0</td>\n",
       "      <td>0</td>\n",
       "    </tr>\n",
       "    <tr>\n",
       "      <th>3</th>\n",
       "      <td>699</td>\n",
       "      <td>1</td>\n",
       "      <td>39</td>\n",
       "      <td>1</td>\n",
       "      <td>0.00</td>\n",
       "      <td>2</td>\n",
       "      <td>0</td>\n",
       "      <td>0</td>\n",
       "      <td>93826.63</td>\n",
       "      <td>0</td>\n",
       "      <td>1</td>\n",
       "      <td>0</td>\n",
       "      <td>0</td>\n",
       "    </tr>\n",
       "    <tr>\n",
       "      <th>4</th>\n",
       "      <td>850</td>\n",
       "      <td>1</td>\n",
       "      <td>43</td>\n",
       "      <td>2</td>\n",
       "      <td>125510.82</td>\n",
       "      <td>1</td>\n",
       "      <td>1</td>\n",
       "      <td>1</td>\n",
       "      <td>79084.10</td>\n",
       "      <td>0</td>\n",
       "      <td>0</td>\n",
       "      <td>0</td>\n",
       "      <td>1</td>\n",
       "    </tr>\n",
       "  </tbody>\n",
       "</table>\n",
       "</div>"
      ],
      "text/plain": [
       "   CreditScore  Gender  Age  Tenure    Balance  NumOfProducts  HasCrCard  \\\n",
       "0          619       1   42       2       0.00              1          1   \n",
       "1          608       1   41       1   83807.86              1          0   \n",
       "2          502       1   42       8  159660.80              3          1   \n",
       "3          699       1   39       1       0.00              2          0   \n",
       "4          850       1   43       2  125510.82              1          1   \n",
       "\n",
       "   IsActiveMember  EstimatedSalary  Exited  Geography_France  \\\n",
       "0               1        101348.88       1                 1   \n",
       "1               1        112542.58       0                 0   \n",
       "2               0        113931.57       1                 1   \n",
       "3               0         93826.63       0                 1   \n",
       "4               1         79084.10       0                 0   \n",
       "\n",
       "   Geography_Germany  Geography_Spain  \n",
       "0                  0                0  \n",
       "1                  0                1  \n",
       "2                  0                0  \n",
       "3                  0                0  \n",
       "4                  0                1  "
      ]
     },
     "execution_count": 51,
     "metadata": {},
     "output_type": "execute_result"
    }
   ],
   "source": [
    "df2.head(5)"
   ]
  },
  {
   "cell_type": "markdown",
   "metadata": {},
   "source": [
    "### **Create training and test sets**"
   ]
  },
  {
   "cell_type": "markdown",
   "metadata": {},
   "source": [
    "Create the training and test datasets. We will perform feature scaling & handle class imbalance after this to prevent data leakage.\n"
   ]
  },
  {
   "cell_type": "code",
   "execution_count": 52,
   "metadata": {},
   "outputs": [],
   "source": [
    "# Create train and test datasets\n",
    "\n",
    "X = df2.drop('Exited',axis='columns')\n",
    "y = df2['Exited']\n",
    "# Use stratified sampling for representative distribution of churned and not churned customers as per original dataset\n",
    "from sklearn.model_selection import train_test_split\n",
    "X_train, X_test, y_train, y_test = train_test_split(X,y,test_size=0.2,random_state=5,stratify=df2['Exited'])"
   ]
  },
  {
   "cell_type": "markdown",
   "metadata": {},
   "source": [
    "There is no need for feature scaling in tree-based algorithms because they are not sensitive to variance in data."
   ]
  },
  {
   "cell_type": "markdown",
   "metadata": {},
   "source": [
    "### Class imbalance check & address"
   ]
  },
  {
   "cell_type": "code",
   "execution_count": 53,
   "metadata": {},
   "outputs": [
    {
     "data": {
      "text/plain": [
       "0    6370\n",
       "1    1630\n",
       "Name: Exited, dtype: int64"
      ]
     },
     "execution_count": 53,
     "metadata": {},
     "output_type": "execute_result"
    }
   ],
   "source": [
    "# Check distribution in target column (training data)\n",
    "y_train.value_counts()"
   ]
  },
  {
   "cell_type": "code",
   "execution_count": 54,
   "metadata": {},
   "outputs": [
    {
     "name": "stdout",
     "output_type": "stream",
     "text": [
      "59.25\n"
     ]
    }
   ],
   "source": [
    "# Find out percentage diff between no. of 0 records and no. of 1 records\n",
    "print(100*6370/(6370+1630) -100*1630/(6370+1630))"
   ]
  },
  {
   "cell_type": "markdown",
   "metadata": {},
   "source": [
    "Downsampling might lead to 59% reduction in amount of data which is a lot. Lets opt for oversampling."
   ]
  },
  {
   "cell_type": "code",
   "execution_count": 55,
   "metadata": {},
   "outputs": [],
   "source": [
    "# Checking versions of imblearn and sklearn owing to bug in imblearn. \n",
    "# pip show imbalanced-learn \n",
    "# pip show scikit-learn"
   ]
  },
  {
   "cell_type": "markdown",
   "metadata": {},
   "source": [
    "Bug in imblearn addressed by keeping import statement in separate cell and actual usage of oversampling class in separate cell."
   ]
  },
  {
   "cell_type": "code",
   "execution_count": 56,
   "metadata": {},
   "outputs": [],
   "source": [
    "from imblearn.over_sampling import ADASYN"
   ]
  },
  {
   "cell_type": "code",
   "execution_count": 57,
   "metadata": {},
   "outputs": [
    {
     "name": "stdout",
     "output_type": "stream",
     "text": [
      "Before\n",
      "0    6370\n",
      "1    1630\n",
      "Name: Exited, dtype: int64\n",
      "After\n",
      "1    6396\n",
      "0    6370\n",
      "Name: Exited, dtype: int64\n"
     ]
    }
   ],
   "source": [
    "# ADASYN (Adaptive Synthetic algorithm) oversampling\n",
    "\n",
    "print('Before')\n",
    "print(y_train.value_counts())\n",
    "\n",
    "# Oversampling the training dataset only to prevent data leakage\n",
    "ada= ADASYN (random_state=130)\n",
    "X_train_ada, y_train_ada= ada.fit_resample(X_train, y_train)\n",
    "\n",
    "print('After')\n",
    "print(y_train_ada.value_counts())"
   ]
  },
  {
   "cell_type": "code",
   "execution_count": 58,
   "metadata": {},
   "outputs": [
    {
     "name": "stdout",
     "output_type": "stream",
     "text": [
      "Index(['CreditScore', 'Gender', 'Age', 'Tenure', 'Balance', 'NumOfProducts',\n",
      "       'HasCrCard', 'IsActiveMember', 'EstimatedSalary', 'Geography_France',\n",
      "       'Geography_Germany', 'Geography_Spain'],\n",
      "      dtype='object')\n",
      "12\n"
     ]
    }
   ],
   "source": [
    "print(X_train_ada.columns)\n",
    "print(len(X_train_ada.columns)) # No. of columns"
   ]
  },
  {
   "cell_type": "code",
   "execution_count": 59,
   "metadata": {},
   "outputs": [],
   "source": [
    "from imblearn.over_sampling import SMOTE"
   ]
  },
  {
   "cell_type": "code",
   "execution_count": 60,
   "metadata": {},
   "outputs": [
    {
     "name": "stdout",
     "output_type": "stream",
     "text": [
      "Before\n",
      "0    6370\n",
      "1    1630\n",
      "Name: Exited, dtype: int64\n",
      "After\n",
      "0    6370\n",
      "1    6370\n",
      "Name: Exited, dtype: int64\n"
     ]
    }
   ],
   "source": [
    "# SMOTE oversampling\n",
    "\n",
    "print('Before')\n",
    "print(y_train.value_counts())\n",
    "\n",
    "# Oversampling the training dataset only to prevent data leakage\n",
    "smt= SMOTE (random_state=130)\n",
    "X_train_smt, y_train_smt= smt.fit_resample(X_train, y_train)\n",
    "\n",
    "print('After')\n",
    "print(y_train_smt.value_counts())"
   ]
  },
  {
   "cell_type": "code",
   "execution_count": 61,
   "metadata": {},
   "outputs": [
    {
     "name": "stdout",
     "output_type": "stream",
     "text": [
      "(12740, 12)\n",
      "(12740,)\n"
     ]
    }
   ],
   "source": [
    "print(X_train_smt.shape)\n",
    "print(y_train_smt.shape)"
   ]
  },
  {
   "cell_type": "markdown",
   "metadata": {},
   "source": [
    "### Build tree-based models"
   ]
  },
  {
   "cell_type": "code",
   "execution_count": 62,
   "metadata": {},
   "outputs": [],
   "source": [
    "from sklearn.ensemble import RandomForestClassifier, AdaBoostClassifier, GradientBoostingClassifier\n",
    "from xgboost import XGBClassifier\n",
    "from sklearn.tree import DecisionTreeClassifier\n",
    "from sklearn.metrics import accuracy_score\n"
   ]
  },
  {
   "cell_type": "markdown",
   "metadata": {},
   "source": [
    "We will first try without correcting class imbalance (X_train, y_train)"
   ]
  },
  {
   "cell_type": "code",
   "execution_count": 63,
   "metadata": {},
   "outputs": [
    {
     "name": "stdout",
     "output_type": "stream",
     "text": [
      "Without correcting class imbalance, model performance:\n",
      "AdaBoost Accuracy: 0.857\n",
      "Random Forest Accuracy: 0.869\n",
      "XGBoost Accuracy: 0.864\n",
      "Decision Tree Accuracy: 0.8025\n",
      "Gradient Boosting Accuracy: 0.868\n"
     ]
    }
   ],
   "source": [
    "# Instantiate models\n",
    "adaboost_model = AdaBoostClassifier(n_estimators=50, random_state=42)\n",
    "random_forest_model = RandomForestClassifier(n_estimators=100, random_state=42)\n",
    "xgboost_model = XGBClassifier(n_estimators=100, random_state=42)\n",
    "decision_tree_model = DecisionTreeClassifier(random_state=42)\n",
    "gradient_boosting_model = GradientBoostingClassifier(n_estimators=100, learning_rate=0.1, max_depth=3, random_state=42)\n",
    "\n",
    "# Fit models\n",
    "adaboost_model.fit(X_train, y_train)\n",
    "random_forest_model.fit(X_train, y_train)\n",
    "xgboost_model.fit(X_train, y_train)\n",
    "decision_tree_model.fit(X_train, y_train)\n",
    "gradient_boosting_model.fit(X_train, y_train)\n",
    "\n",
    "# Make predictions\n",
    "adaboost_pred = adaboost_model.predict(X_test)\n",
    "random_forest_pred = random_forest_model.predict(X_test)\n",
    "xgboost_pred = xgboost_model.predict(X_test)\n",
    "decision_tree_pred = decision_tree_model.predict(X_test)\n",
    "gradient_boosting_pred = gradient_boosting_model.predict(X_test)\n",
    "\n",
    "# Evaluate models\n",
    "adaboost_accuracy = accuracy_score(y_test, adaboost_pred)\n",
    "random_forest_accuracy = accuracy_score(y_test, random_forest_pred)\n",
    "xgboost_accuracy = accuracy_score(y_test, xgboost_pred)\n",
    "decision_tree_accuracy = accuracy_score(y_test, decision_tree_pred)\n",
    "gradient_boosting_accuracy = accuracy_score(y_test, gradient_boosting_pred)\n",
    "\n",
    "print ('Without correcting class imbalance, model performance:')\n",
    "print('AdaBoost Accuracy:', adaboost_accuracy)\n",
    "print('Random Forest Accuracy:', random_forest_accuracy)\n",
    "print('XGBoost Accuracy:', xgboost_accuracy)\n",
    "print('Decision Tree Accuracy:', decision_tree_accuracy)\n",
    "print('Gradient Boosting Accuracy:', gradient_boosting_accuracy)"
   ]
  },
  {
   "cell_type": "code",
   "execution_count": 64,
   "metadata": {},
   "outputs": [
    {
     "name": "stdout",
     "output_type": "stream",
     "text": [
      "Classification Report for AdaBoost:\n",
      "               precision    recall  f1-score   support\n",
      "\n",
      "           0       0.88      0.96      0.91      1593\n",
      "           1       0.73      0.47      0.57       407\n",
      "\n",
      "    accuracy                           0.86      2000\n",
      "   macro avg       0.80      0.71      0.74      2000\n",
      "weighted avg       0.85      0.86      0.84      2000\n",
      "\n",
      "\n",
      "Classification Report for Random Forest:\n",
      "               precision    recall  f1-score   support\n",
      "\n",
      "           0       0.88      0.97      0.92      1593\n",
      "           1       0.80      0.48      0.60       407\n",
      "\n",
      "    accuracy                           0.87      2000\n",
      "   macro avg       0.84      0.72      0.76      2000\n",
      "weighted avg       0.86      0.87      0.86      2000\n",
      "\n",
      "\n",
      "Classification Report for XGBoost:\n",
      "               precision    recall  f1-score   support\n",
      "\n",
      "           0       0.88      0.96      0.92      1593\n",
      "           1       0.75      0.49      0.60       407\n",
      "\n",
      "    accuracy                           0.86      2000\n",
      "   macro avg       0.82      0.73      0.76      2000\n",
      "weighted avg       0.86      0.86      0.85      2000\n",
      "\n",
      "\n",
      "Classification Report for Decision Tree:\n",
      "               precision    recall  f1-score   support\n",
      "\n",
      "           0       0.88      0.87      0.88      1593\n",
      "           1       0.51      0.53      0.52       407\n",
      "\n",
      "    accuracy                           0.80      2000\n",
      "   macro avg       0.70      0.70      0.70      2000\n",
      "weighted avg       0.80      0.80      0.80      2000\n",
      "\n",
      "\n",
      "Classification Report for Gradient Boosting:\n",
      "               precision    recall  f1-score   support\n",
      "\n",
      "           0       0.88      0.97      0.92      1593\n",
      "           1       0.78      0.48      0.60       407\n",
      "\n",
      "    accuracy                           0.87      2000\n",
      "   macro avg       0.83      0.73      0.76      2000\n",
      "weighted avg       0.86      0.87      0.86      2000\n",
      "\n"
     ]
    },
    {
     "data": {
      "image/png": "[encoded data removed]",
      "text/plain": [
       "<Figure size 864x432 with 1 Axes>"
      ]
     },
     "metadata": {
      "needs_background": "light"
     },
     "output_type": "display_data"
    }
   ],
   "source": [
    "# Lets generate classification reports for each model \n",
    "from sklearn.metrics import classification_report\n",
    "\n",
    "# Generate classification reports\n",
    "adaboost_report = classification_report(y_test, adaboost_pred)\n",
    "random_forest_report = classification_report(y_test, random_forest_pred)\n",
    "xgboost_report = classification_report(y_test, xgboost_pred)\n",
    "decision_tree_report = classification_report(y_test, decision_tree_pred)\n",
    "gradient_boosting_report = classification_report(y_test, gradient_boosting_pred)\n",
    "\n",
    "\n",
    "# Print classification reports\n",
    "print('Classification Report for AdaBoost:\\n', adaboost_report)\n",
    "print('\\nClassification Report for Random Forest:\\n', random_forest_report)\n",
    "print('\\nClassification Report for XGBoost:\\n', xgboost_report)\n",
    "print('\\nClassification Report for Decision Tree:\\n', decision_tree_report)\n",
    "print('\\nClassification Report for Gradient Boosting:\\n', gradient_boosting_report)\n",
    "\n",
    "\n",
    "# Classification reports can be tough to read for so many models. \n",
    "# So lets just plot the precision values for each class using the values found by classification_report\n",
    "\n",
    "# Calculate classification reports for each model\n",
    "classification_reports = {}\n",
    "models = ['AdaBoost', 'Random Forest', 'XGBoost', 'Decision Tree', 'Gradient Boosting']\n",
    "\n",
    "for model_name, y_pred in zip(models, [adaboost_pred, random_forest_pred, xgboost_pred, decision_tree_pred, gradient_boosting_pred]):\n",
    "    classification_reports[model_name] = classification_report(y_test, y_pred, output_dict=True)\n",
    "\n",
    "# Extract precision values for each class in each model\n",
    "precision_values = {}\n",
    "for model_name in models:\n",
    "    precision_values[model_name] = [classification_reports[model_name]['0']['precision'], classification_reports[model_name]['1']['precision']]\n",
    "\n",
    "# Plot precision values for each class in a single chart\n",
    "bar_width = 0.15\n",
    "index = np.arange(len(precision_values[models[0]]))\n",
    "\n",
    "plt.figure(figsize=(12, 6))\n",
    "\n",
    "for i, model_name in enumerate(models):\n",
    "    plt.bar(index + i * bar_width, precision_values[model_name], bar_width, label=model_name)\n",
    "\n",
    "plt.xlabel('Class')\n",
    "plt.ylabel('Precision')\n",
    "plt.title('Precision for each class in all models')\n",
    "plt.xticks(index + bar_width * (len(models) - 1) / 2, ['Not Exited', 'Exited'])\n",
    "plt.legend(loc='upper right', bbox_to_anchor=(1.2,1)) # bbox_To_anchor to prevent overlap of legend with bars\n",
    "plt.show()"
   ]
  },
  {
   "cell_type": "code",
   "execution_count": 65,
   "metadata": {},
   "outputs": [
    {
     "name": "stdout",
     "output_type": "stream",
     "text": [
      "ROC AUC Score for AdaBoost: 0.714\n",
      "ROC AUC Score for Random Forest: 0.724\n",
      "ROC AUC Score for XGBoost: 0.725\n",
      "ROC AUC Score for Decision Tree: 0.701\n",
      "ROC AUC Score for Gradient Boosting: 0.725\n"
     ]
    }
   ],
   "source": [
    "# Get ROC AUC score for each model\n",
    "from sklearn.metrics import roc_auc_score\n",
    "\n",
    "# Calculate ROC AUC scores\n",
    "adaboost_roc_auc = roc_auc_score(y_test, adaboost_pred)\n",
    "random_forest_roc_auc = roc_auc_score(y_test, random_forest_pred)\n",
    "xgboost_roc_auc = roc_auc_score(y_test, xgboost_pred)\n",
    "decision_tree_roc_auc = roc_auc_score(y_test, decision_tree_pred)\n",
    "gradient_boosting_roc_auc = roc_auc_score(y_test, gradient_boosting_pred)\n",
    "\n",
    "# Print ROC AUC scores\n",
    "print('ROC AUC Score for AdaBoost:', round(adaboost_roc_auc,3))\n",
    "print('ROC AUC Score for Random Forest:', round(random_forest_roc_auc,3))\n",
    "print('ROC AUC Score for XGBoost:', round(xgboost_roc_auc,3))\n",
    "print('ROC AUC Score for Decision Tree:', round(decision_tree_roc_auc,3))\n",
    "print('ROC AUC Score for Gradient Boosting:', round(gradient_boosting_roc_auc,3))"
   ]
  },
  {
   "cell_type": "markdown",
   "metadata": {},
   "source": [
    "Now lets try after using SMOTE to address class imbalance."
   ]
  },
  {
   "cell_type": "code",
   "execution_count": 66,
   "metadata": {},
   "outputs": [
    {
     "name": "stdout",
     "output_type": "stream",
     "text": [
      "After correcting class imbalance (oversampling), model performance:\n",
      "AdaBoost Accuracy: 0.8295\n",
      "Random Forest Accuracy: 0.8455\n",
      "XGBoost Accuracy: 0.8495\n",
      "Decision Tree Accuracy: 0.7775\n",
      "Gradient Boosting Accuracy: 0.8455\n"
     ]
    }
   ],
   "source": [
    "# Using SMOTE training datasets\n",
    "# Instantiate models\n",
    "adaboost_model = AdaBoostClassifier(n_estimators=50, random_state=42)\n",
    "random_forest_model = RandomForestClassifier(n_estimators=100, random_state=42)\n",
    "xgboost_model = XGBClassifier(n_estimators=100, random_state=42)\n",
    "decision_tree_model = DecisionTreeClassifier(random_state=42)\n",
    "gradient_boosting_model = GradientBoostingClassifier(n_estimators=100, learning_rate=0.1, max_depth=3, random_state=42)\n",
    "\n",
    "# Fit models\n",
    "adaboost_model.fit(X_train_smt, y_train_smt)\n",
    "random_forest_model.fit(X_train_smt, y_train_smt)\n",
    "xgboost_model.fit(X_train_smt, y_train_smt)\n",
    "decision_tree_model.fit(X_train_smt, y_train_smt)\n",
    "gradient_boosting_model.fit(X_train_smt, y_train_smt)\n",
    "\n",
    "# Make predictions\n",
    "adaboost_pred = adaboost_model.predict(X_test)\n",
    "random_forest_pred = random_forest_model.predict(X_test)\n",
    "xgboost_pred = xgboost_model.predict(X_test)\n",
    "decision_tree_pred = decision_tree_model.predict(X_test)\n",
    "gradient_boosting_pred = gradient_boosting_model.predict(X_test)\n",
    "\n",
    "# Evaluate models\n",
    "adaboost_accuracy = accuracy_score(y_test, adaboost_pred)\n",
    "random_forest_accuracy = accuracy_score(y_test, random_forest_pred)\n",
    "xgboost_accuracy = accuracy_score(y_test, xgboost_pred)\n",
    "decision_tree_accuracy = accuracy_score(y_test, decision_tree_pred)\n",
    "gradient_boosting_accuracy = accuracy_score(y_test, gradient_boosting_pred)\n",
    "\n",
    "print ('After correcting class imbalance (oversampling), model performance:')\n",
    "print('AdaBoost Accuracy:', adaboost_accuracy)\n",
    "print('Random Forest Accuracy:', random_forest_accuracy)\n",
    "print('XGBoost Accuracy:', xgboost_accuracy)\n",
    "print('Decision Tree Accuracy:', decision_tree_accuracy)\n",
    "print('Gradient Boosting Accuracy:', gradient_boosting_accuracy)"
   ]
  },
  {
   "cell_type": "code",
   "execution_count": 67,
   "metadata": {},
   "outputs": [
    {
     "name": "stdout",
     "output_type": "stream",
     "text": [
      "Classification Report for AdaBoost:\n",
      "               precision    recall  f1-score   support\n",
      "\n",
      "           0       0.91      0.87      0.89      1593\n",
      "           1       0.57      0.68      0.62       407\n",
      "\n",
      "    accuracy                           0.83      2000\n",
      "   macro avg       0.74      0.77      0.75      2000\n",
      "weighted avg       0.84      0.83      0.83      2000\n",
      "\n",
      "\n",
      "Classification Report for Random Forest:\n",
      "               precision    recall  f1-score   support\n",
      "\n",
      "           0       0.90      0.91      0.90      1593\n",
      "           1       0.62      0.60      0.61       407\n",
      "\n",
      "    accuracy                           0.85      2000\n",
      "   macro avg       0.76      0.75      0.76      2000\n",
      "weighted avg       0.84      0.85      0.84      2000\n",
      "\n",
      "\n",
      "Classification Report for XGBoost:\n",
      "               precision    recall  f1-score   support\n",
      "\n",
      "           0       0.90      0.91      0.91      1593\n",
      "           1       0.63      0.62      0.63       407\n",
      "\n",
      "    accuracy                           0.85      2000\n",
      "   macro avg       0.77      0.76      0.77      2000\n",
      "weighted avg       0.85      0.85      0.85      2000\n",
      "\n",
      "\n",
      "Classification Report for Decision Tree:\n",
      "               precision    recall  f1-score   support\n",
      "\n",
      "           0       0.88      0.83      0.86      1593\n",
      "           1       0.46      0.57      0.51       407\n",
      "\n",
      "    accuracy                           0.78      2000\n",
      "   macro avg       0.67      0.70      0.68      2000\n",
      "weighted avg       0.80      0.78      0.79      2000\n",
      "\n",
      "\n",
      "Classification Report for Gradient Boosting:\n",
      "               precision    recall  f1-score   support\n",
      "\n",
      "           0       0.91      0.89      0.90      1593\n",
      "           1       0.61      0.66      0.63       407\n",
      "\n",
      "    accuracy                           0.85      2000\n",
      "   macro avg       0.76      0.77      0.77      2000\n",
      "weighted avg       0.85      0.85      0.85      2000\n",
      "\n"
     ]
    },
    {
     "data": {
      "image/png": "[encoded data removed]",
      "text/plain": [
       "<Figure size 864x432 with 1 Axes>"
      ]
     },
     "metadata": {
      "needs_background": "light"
     },
     "output_type": "display_data"
    }
   ],
   "source": [
    "\n",
    "# Lets see classification reports for each model \n",
    "from sklearn.metrics import classification_report\n",
    "\n",
    "# Generate classification reports\n",
    "adaboost_report = classification_report(y_test, adaboost_pred)\n",
    "random_forest_report = classification_report(y_test, random_forest_pred)\n",
    "xgboost_report = classification_report(y_test, xgboost_pred)\n",
    "decision_tree_report = classification_report(y_test, decision_tree_pred)\n",
    "gradient_boosting_report = classification_report(y_test, gradient_boosting_pred)\n",
    "\n",
    "# Print classification reports\n",
    "print('Classification Report for AdaBoost:\\n', adaboost_report)\n",
    "print('\\nClassification Report for Random Forest:\\n', random_forest_report)\n",
    "print('\\nClassification Report for XGBoost:\\n', xgboost_report)\n",
    "print('\\nClassification Report for Decision Tree:\\n', decision_tree_report)\n",
    "print('\\nClassification Report for Gradient Boosting:\\n', gradient_boosting_report)\n",
    "\n",
    "\n",
    "\n",
    "# Classification reports can be tough to read for so many models. \n",
    "# So lets just plot the precision values for each class using the values found by classification_report\n",
    "\n",
    "# Calculate classification reports for each model\n",
    "classification_reports = {}\n",
    "models = ['AdaBoost', 'Random Forest', 'XGBoost', 'Decision Tree', 'Gradient Boosting']\n",
    "\n",
    "for model_name, y_pred in zip(models, [adaboost_pred, random_forest_pred, xgboost_pred, decision_tree_pred, gradient_boosting_pred]):\n",
    "    classification_reports[model_name] = classification_report(y_test, y_pred, output_dict=True)\n",
    "\n",
    "# Extract precision values for each class in each model\n",
    "precision_values = {}\n",
    "for model_name in models:\n",
    "    precision_values[model_name] = [classification_reports[model_name]['0']['precision'], classification_reports[model_name]['1']['precision']]\n",
    "\n",
    "# Plot precision values for each class in a single chart\n",
    "bar_width = 0.15\n",
    "index = np.arange(len(precision_values[models[0]]))\n",
    "\n",
    "plt.figure(figsize=(12, 6))\n",
    "\n",
    "for i, model_name in enumerate(models):\n",
    "    plt.bar(index + i * bar_width, precision_values[model_name], bar_width, label=model_name)\n",
    "\n",
    "plt.xlabel('Class')\n",
    "plt.ylabel('Precision')\n",
    "plt.title('Precision for each class in all models')\n",
    "plt.xticks(index + bar_width * (len(models) - 1) / 2, ['Not Exited', 'Exited'])\n",
    "plt.legend(loc='upper right', bbox_to_anchor=(1.2,1)) # bbox_To_anchor to prevent overlap of legend with bars\n",
    "plt.show()"
   ]
  },
  {
   "cell_type": "code",
   "execution_count": 68,
   "metadata": {},
   "outputs": [
    {
     "name": "stdout",
     "output_type": "stream",
     "text": [
      "ROC AUC Score for AdaBoost: 0.774\n",
      "ROC AUC Score for Random Forest: 0.755\n",
      "ROC AUC Score for XGBoost: 0.764\n",
      "ROC AUC Score for Decision Tree: 0.701\n",
      "ROC AUC Score for Gradient Boosting: 0.775\n"
     ]
    }
   ],
   "source": [
    "# Get ROC AUC score for each model\n",
    "from sklearn.metrics import roc_auc_score\n",
    "\n",
    "# Calculate ROC AUC scores\n",
    "adaboost_roc_auc = roc_auc_score(y_test, adaboost_pred)\n",
    "random_forest_roc_auc = roc_auc_score(y_test, random_forest_pred)\n",
    "xgboost_roc_auc = roc_auc_score(y_test, xgboost_pred)\n",
    "decision_tree_roc_auc = roc_auc_score(y_test, decision_tree_pred)\n",
    "gradient_boosting_roc_auc = roc_auc_score(y_test, gradient_boosting_pred)\n",
    "\n",
    "# Print ROC AUC scores\n",
    "print('ROC AUC Score for AdaBoost:', round(adaboost_roc_auc,3))\n",
    "print('ROC AUC Score for Random Forest:', round(random_forest_roc_auc,3))\n",
    "print('ROC AUC Score for XGBoost:', round(xgboost_roc_auc,3))\n",
    "print('ROC AUC Score for Decision Tree:', round(decision_tree_roc_auc,3))\n",
    "print('ROC AUC Score for Gradient Boosting:', round(gradient_boosting_roc_auc,3))"
   ]
  },
  {
   "cell_type": "markdown",
   "metadata": {},
   "source": [
    "So we can see from the precision charts that there is much higher precision for class 1 (i.e. Exited=1, i.e. churn=yes) using tree-based methods (avg accuracy is about 0.7) compared to what we obtained in our Neural network (0.5).\n",
    "Notably there is a slight decrease in accuracy after performing oversampling, both via tree-based and NN approaches.\n"
   ]
  }
 ],
 "metadata": {
  "kernelspec": {
   "display_name": "base",
   "language": "python",
   "name": "python3"
  },
  "language_info": {
   "codemirror_mode": {
    "name": "ipython",
    "version": 3
   },
   "file_extension": ".py",
   "mimetype": "text/x-python",
   "name": "python",
   "nbconvert_exporter": "python",
   "pygments_lexer": "ipython3",
   "version": "3.8.13"
  }
 },
 "nbformat": 4,
 "nbformat_minor": 2
}
