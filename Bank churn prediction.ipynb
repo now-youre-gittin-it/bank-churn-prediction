{
 "cells": [
  {
   "cell_type": "markdown",
   "metadata": {},
   "source": [
    "# Bank Customer Churn Prediction using ANNs"
   ]
  },
  {
   "cell_type": "code",
   "execution_count": 1,
   "metadata": {},
   "outputs": [],
   "source": [
    "import pandas as pd\n",
    "from matplotlib import pyplot as plt\n",
    "import numpy as np\n",
    "%matplotlib inline"
   ]
  },
  {
   "cell_type": "markdown",
   "metadata": {},
   "source": [
    "### Loading data"
   ]
  },
  {
   "cell_type": "code",
   "execution_count": 2,
   "metadata": {},
   "outputs": [
    {
     "data": {
      "text/html": [
       "<div>\n",
       "<style scoped>\n",
       "    .dataframe tbody tr th:only-of-type {\n",
       "        vertical-align: middle;\n",
       "    }\n",
       "\n",
       "    .dataframe tbody tr th {\n",
       "        vertical-align: top;\n",
       "    }\n",
       "\n",
       "    .dataframe thead th {\n",
       "        text-align: right;\n",
       "    }\n",
       "</style>\n",
       "<table border=\"1\" class=\"dataframe\">\n",
       "  <thead>\n",
       "    <tr style=\"text-align: right;\">\n",
       "      <th></th>\n",
       "      <th>RowNumber</th>\n",
       "      <th>CustomerId</th>\n",
       "      <th>Surname</th>\n",
       "      <th>CreditScore</th>\n",
       "      <th>Geography</th>\n",
       "      <th>Gender</th>\n",
       "      <th>Age</th>\n",
       "      <th>Tenure</th>\n",
       "      <th>Balance</th>\n",
       "      <th>NumOfProducts</th>\n",
       "      <th>HasCrCard</th>\n",
       "      <th>IsActiveMember</th>\n",
       "      <th>EstimatedSalary</th>\n",
       "      <th>Exited</th>\n",
       "    </tr>\n",
       "  </thead>\n",
       "  <tbody>\n",
       "    <tr>\n",
       "      <th>5308</th>\n",
       "      <td>5309</td>\n",
       "      <td>15735439</td>\n",
       "      <td>P'an</td>\n",
       "      <td>449</td>\n",
       "      <td>Spain</td>\n",
       "      <td>Female</td>\n",
       "      <td>31</td>\n",
       "      <td>1</td>\n",
       "      <td>113693.00</td>\n",
       "      <td>1</td>\n",
       "      <td>0</td>\n",
       "      <td>0</td>\n",
       "      <td>82796.29</td>\n",
       "      <td>0</td>\n",
       "    </tr>\n",
       "    <tr>\n",
       "      <th>4586</th>\n",
       "      <td>4587</td>\n",
       "      <td>15664895</td>\n",
       "      <td>Onuchukwu</td>\n",
       "      <td>602</td>\n",
       "      <td>France</td>\n",
       "      <td>Female</td>\n",
       "      <td>25</td>\n",
       "      <td>0</td>\n",
       "      <td>0.00</td>\n",
       "      <td>2</td>\n",
       "      <td>1</td>\n",
       "      <td>1</td>\n",
       "      <td>101274.17</td>\n",
       "      <td>0</td>\n",
       "    </tr>\n",
       "    <tr>\n",
       "      <th>9800</th>\n",
       "      <td>9801</td>\n",
       "      <td>15640507</td>\n",
       "      <td>Li</td>\n",
       "      <td>762</td>\n",
       "      <td>Spain</td>\n",
       "      <td>Female</td>\n",
       "      <td>35</td>\n",
       "      <td>3</td>\n",
       "      <td>119349.69</td>\n",
       "      <td>3</td>\n",
       "      <td>1</td>\n",
       "      <td>1</td>\n",
       "      <td>47114.18</td>\n",
       "      <td>1</td>\n",
       "    </tr>\n",
       "    <tr>\n",
       "      <th>9781</th>\n",
       "      <td>9782</td>\n",
       "      <td>15650424</td>\n",
       "      <td>Bryant</td>\n",
       "      <td>641</td>\n",
       "      <td>France</td>\n",
       "      <td>Female</td>\n",
       "      <td>48</td>\n",
       "      <td>3</td>\n",
       "      <td>147341.43</td>\n",
       "      <td>1</td>\n",
       "      <td>1</td>\n",
       "      <td>1</td>\n",
       "      <td>157458.61</td>\n",
       "      <td>1</td>\n",
       "    </tr>\n",
       "    <tr>\n",
       "      <th>2204</th>\n",
       "      <td>2205</td>\n",
       "      <td>15762803</td>\n",
       "      <td>Innes</td>\n",
       "      <td>509</td>\n",
       "      <td>France</td>\n",
       "      <td>Male</td>\n",
       "      <td>31</td>\n",
       "      <td>3</td>\n",
       "      <td>0.00</td>\n",
       "      <td>2</td>\n",
       "      <td>1</td>\n",
       "      <td>0</td>\n",
       "      <td>15360.91</td>\n",
       "      <td>0</td>\n",
       "    </tr>\n",
       "  </tbody>\n",
       "</table>\n",
       "</div>"
      ],
      "text/plain": [
       "      RowNumber  CustomerId    Surname  CreditScore Geography  Gender  Age  \\\n",
       "5308       5309    15735439       P'an          449     Spain  Female   31   \n",
       "4586       4587    15664895  Onuchukwu          602    France  Female   25   \n",
       "9800       9801    15640507         Li          762     Spain  Female   35   \n",
       "9781       9782    15650424     Bryant          641    France  Female   48   \n",
       "2204       2205    15762803      Innes          509    France    Male   31   \n",
       "\n",
       "      Tenure    Balance  NumOfProducts  HasCrCard  IsActiveMember  \\\n",
       "5308       1  113693.00              1          0               0   \n",
       "4586       0       0.00              2          1               1   \n",
       "9800       3  119349.69              3          1               1   \n",
       "9781       3  147341.43              1          1               1   \n",
       "2204       3       0.00              2          1               0   \n",
       "\n",
       "      EstimatedSalary  Exited  \n",
       "5308         82796.29       0  \n",
       "4586        101274.17       0  \n",
       "9800         47114.18       1  \n",
       "9781        157458.61       1  \n",
       "2204         15360.91       0  "
      ]
     },
     "execution_count": 2,
     "metadata": {},
     "output_type": "execute_result"
    }
   ],
   "source": [
    "df = pd.read_csv(\"Churn_Modelling.csv\")\n",
    "df.sample(5)"
   ]
  },
  {
   "cell_type": "code",
   "execution_count": 3,
   "metadata": {},
   "outputs": [
    {
     "data": {
      "text/plain": [
       "(10000, 14)"
      ]
     },
     "execution_count": 3,
     "metadata": {},
     "output_type": "execute_result"
    }
   ],
   "source": [
    "df.shape\n",
    "#So we have 10k customer records and 14 dimensinos"
   ]
  },
  {
   "cell_type": "code",
   "execution_count": 4,
   "metadata": {},
   "outputs": [
    {
     "data": {
      "text/plain": [
       "RowNumber            int64\n",
       "CustomerId           int64\n",
       "Surname             object\n",
       "CreditScore          int64\n",
       "Geography           object\n",
       "Gender              object\n",
       "Age                  int64\n",
       "Tenure               int64\n",
       "Balance            float64\n",
       "NumOfProducts        int64\n",
       "HasCrCard            int64\n",
       "IsActiveMember       int64\n",
       "EstimatedSalary    float64\n",
       "Exited               int64\n",
       "dtype: object"
      ]
     },
     "execution_count": 4,
     "metadata": {},
     "output_type": "execute_result"
    }
   ],
   "source": [
    "df.dtypes"
   ]
  },
  {
   "cell_type": "code",
   "execution_count": 5,
   "metadata": {},
   "outputs": [],
   "source": [
    "# Run a few describe() calls to explore columns. But more efficient way is using unique(), done in next cell\n",
    "# df['Exited'].describe() # This is the target column containing churn status\n",
    "# df['EstimatedSalary'].describe()\n",
    "# df['CreditScore'].describe()"
   ]
  },
  {
   "cell_type": "code",
   "execution_count": 6,
   "metadata": {},
   "outputs": [
    {
     "name": "stdout",
     "output_type": "stream",
     "text": [
      "RowNumber: [    1     2     3 ...  9998  9999 10000]\n",
      "CustomerId: [15634602 15647311 15619304 ... 15584532 15682355 15628319]\n",
      "Surname: ['Hargrave' 'Hill' 'Onio' ... 'Kashiwagi' 'Aldridge' 'Burbidge']\n",
      "CreditScore: [619 608 502 699 850 645 822 376 501 684 528 497 476 549 635 616 653 587\n",
      " 726 732 636 510 669 846 577 756 571 574 411 591 533 553 520 722 475 490\n",
      " 804 582 472 465 556 834 660 776 829 637 550 698 585 788 655 601 656 725\n",
      " 511 614 742 687 555 603 751 581 735 661 675 738 813 657 604 519 664 678\n",
      " 757 416 665 777 543 506 493 652 750 729 646 647 808 524 769 730 515 773\n",
      " 814 710 413 623 670 622 785 605 479 685 538 562 721 628 668 828 674 625\n",
      " 432 770 758 795 686 789 589 461 584 579 663 682 793 691 485 650 754 535\n",
      " 716 539 706 586 631 717 800 683 704 615 667 484 480 578 512 606 597 778\n",
      " 514 525 715 580 807 521 759 516 711 618 643 671 689 620 676 572 695 592\n",
      " 567 694 547 594 673 610 767 763 712 703 662 659 523 772 545 634 739 771\n",
      " 681 544 696 766 727 693 557 531 498 651 791 733 811 707 714 782 775 799\n",
      " 602 744 588 747 583 627 731 629 438 642 806 474 559 429 680 749 734 644\n",
      " 626 649 805 718 840 630 654 762 568 613 522 737 648 443 640 540 460 593\n",
      " 801 611 802 745 483 690 492 709 705 560 752 701 537 487 596 702 486 724\n",
      " 548 464 790 534 748 494 590 468 509 818 816 536 753 774 621 569 658 798\n",
      " 641 542 692 639 765 570 638 599 632 779 527 564 833 504 842 508 417 598\n",
      " 741 607 761 848 546 439 755 760 526 713 700 666 566 495 688 612 477 427\n",
      " 839 819 720 459 503 624 529 563 482 796 445 746 786 554 672 787 499 844\n",
      " 450 815 838 803 736 633 600 679 517 792 743 488 421 841 708 507 505 456\n",
      " 435 561 518 565 728 784 552 609 764 697 723 551 444 719 496 541 830 812\n",
      " 677 420 595 617 809 500 826 434 513 478 797 363 399 463 780 452 575 837\n",
      " 794 824 428 823 781 849 489 431 457 768 831 359 820 573 576 558 817 449\n",
      " 440 415 821 530 350 446 425 740 481 783 358 845 451 458 469 423 404 836\n",
      " 473 835 466 491 351 827 843 365 532 414 453 471 401 810 832 470 447 422\n",
      " 825 430 436 426 408 847 418 437 410 454 407 455 462 386 405 383 395 467\n",
      " 433 442 424 448 441 367 412 382 373 419]\n",
      "Geography: ['France' 'Spain' 'Germany']\n",
      "Gender: ['Female' 'Male']\n",
      "Age: [42 41 39 43 44 50 29 27 31 24 34 25 35 45 58 32 38 46 36 33 40 51 61 49\n",
      " 37 19 66 56 26 21 55 75 22 30 28 65 48 52 57 73 47 54 72 20 67 79 62 53\n",
      " 80 59 68 23 60 70 63 64 18 82 69 74 71 76 77 88 85 84 78 81 92 83]\n",
      "Tenure: [ 2  1  8  7  4  6  3 10  5  9  0]\n",
      "Balance: [     0.    83807.86 159660.8  ...  57369.61  75075.31 130142.79]\n",
      "NumOfProducts: [1 3 2 4]\n",
      "HasCrCard: [1 0]\n",
      "IsActiveMember: [1 0]\n",
      "EstimatedSalary: [101348.88 112542.58 113931.57 ...  42085.58  92888.52  38190.78]\n",
      "Exited: [1 0]\n"
     ]
    }
   ],
   "source": [
    "# Find out nature of values in each column so that we can eliminate unnecessary cols and figure out further preprocessing\n",
    "for col in df:\n",
    "    print(f'{col}: {df[col].unique()}') "
   ]
  },
  {
   "cell_type": "markdown",
   "metadata": {},
   "source": [
    "Above results show us that there are a few columns that can be removed. There are a few categorical columns that will need to be encoded for subsequent analysis."
   ]
  },
  {
   "cell_type": "code",
   "execution_count": 7,
   "metadata": {},
   "outputs": [],
   "source": [
    "# Drop columns that wont be used for analysis\n",
    "df1= df.drop(['RowNumber','CustomerId','Surname'],axis=1)\n"
   ]
  },
  {
   "cell_type": "code",
   "execution_count": 8,
   "metadata": {},
   "outputs": [
    {
     "data": {
      "text/plain": [
       "(10000, 11)"
      ]
     },
     "execution_count": 8,
     "metadata": {},
     "output_type": "execute_result"
    }
   ],
   "source": [
    "df1.shape\n",
    "# We have 10k customer records and 11 dimensions. Will drop Exited column later as its target column\n",
    "# So in the end there will be 10 useful dimensions"
   ]
  },
  {
   "cell_type": "markdown",
   "metadata": {},
   "source": [
    "We have to check for null/NaN values and take steps if they are found."
   ]
  },
  {
   "cell_type": "code",
   "execution_count": 9,
   "metadata": {},
   "outputs": [
    {
     "name": "stdout",
     "output_type": "stream",
     "text": [
      "No null values in any column.\n"
     ]
    }
   ],
   "source": [
    "# Check for null values in each column\n",
    "null_columns = df1.columns[df1.isnull().any()]\n",
    "null_columns\n",
    "\n",
    "# If there are null values, print out the column names\n",
    "if null_columns.empty:\n",
    "    print(\"No null values in any column.\")\n",
    "else:\n",
    "    print(\"Null values found in the following columns:\")\n",
    "    print(null_columns.tolist())"
   ]
  },
  {
   "cell_type": "markdown",
   "metadata": {},
   "source": [
    "No null values, so preprocessing to tackle them is not necessary."
   ]
  },
  {
   "cell_type": "markdown",
   "metadata": {},
   "source": [
    "### Data viz to explore churn patterns"
   ]
  },
  {
   "cell_type": "code",
   "execution_count": 10,
   "metadata": {},
   "outputs": [
    {
     "data": {
      "text/plain": [
       "<matplotlib.legend.Legend at 0x1fd63a0c310>"
      ]
     },
     "execution_count": 10,
     "metadata": {},
     "output_type": "execute_result"
    },
    {
     "data": {
      "image/png": "[encoded data removed]",
      "text/plain": [
       "<Figure size 432x288 with 1 Axes>"
      ]
     },
     "metadata": {
      "needs_background": "light"
     },
     "output_type": "display_data"
    }
   ],
   "source": [
    "tenure_churn_no = df1[df1.Exited==0].Tenure\n",
    "tenure_churn_yes = df1[df1.Exited==1].Tenure\n",
    "\n",
    "plt.xlabel(\"Tenure\")\n",
    "plt.ylabel(\"Number Of Customers\")\n",
    "plt.title(\"Customer Churn Visualization\")\n",
    "\n",
    "# Plot histogram of customer churn as a function of the tenure (i.e. no of years they have been a customer of the bank)\n",
    "plt.hist([tenure_churn_yes, tenure_churn_no], rwidth=0.95, color=['green','red'],label=['Churn=Yes','Churn=No'])\n",
    "plt.legend()"
   ]
  },
  {
   "cell_type": "code",
   "execution_count": 11,
   "metadata": {},
   "outputs": [
    {
     "data": {
      "text/plain": [
       "<matplotlib.legend.Legend at 0x1fd65b69e80>"
      ]
     },
     "execution_count": 11,
     "metadata": {},
     "output_type": "execute_result"
    },
    {
     "data": {
      "image/png": "[encoded data removed]",
      "text/plain": [
       "<Figure size 432x288 with 1 Axes>"
      ]
     },
     "metadata": {
      "needs_background": "light"
     },
     "output_type": "display_data"
    }
   ],
   "source": [
    "CreditScore_no = df1[df1.Exited==0].CreditScore      \n",
    "CreditScore_yes = df1[df1.Exited==1].CreditScore      \n",
    "\n",
    "\n",
    "plt.xlabel(\"CreditScore\")\n",
    "plt.ylabel(\"Number Of Customers\")\n",
    "plt.title(\"Customer Churn Visualization\")\n",
    "\n",
    "# Plot histogram of customer churn as a function of the customer credit scores\n",
    "plt.hist([CreditScore_yes, CreditScore_no], rwidth=0.95, color=['green','red'],label=['Churn=Yes','Churn=No'])\n",
    "plt.legend()\n"
   ]
  },
  {
   "cell_type": "code",
   "execution_count": 12,
   "metadata": {},
   "outputs": [
    {
     "data": {
      "text/plain": [
       "<matplotlib.legend.Legend at 0x1fd65c417c0>"
      ]
     },
     "execution_count": 12,
     "metadata": {},
     "output_type": "execute_result"
    },
    {
     "data": {
      "image/png": "[encoded data removed]",
      "text/plain": [
       "<Figure size 432x288 with 1 Axes>"
      ]
     },
     "metadata": {
      "needs_background": "light"
     },
     "output_type": "display_data"
    }
   ],
   "source": [
    "HasCrCard_no = df1[df1.Exited==0].HasCrCard      \n",
    "HasCrCard_yes = df1[df1.Exited==1].HasCrCard      \n",
    "\n",
    "\n",
    "plt.xlabel(\"HasCrCard\")\n",
    "plt.ylabel(\"Number Of Customers\")\n",
    "plt.title(\"Customer Churn Visualization\")\n",
    "\n",
    "# Plot histogram of customer churn as a function of the customer credit scores\n",
    "plt.hist([HasCrCard_yes, HasCrCard_no], rwidth=0.95, color=['green','red'],label=['Churn=1 (Yes)','Churn=0 (No)'])\n",
    "plt.legend()\n"
   ]
  },
  {
   "cell_type": "markdown",
   "metadata": {},
   "source": [
    "### Tackling Categorical Variables"
   ]
  },
  {
   "cell_type": "code",
   "execution_count": 13,
   "metadata": {},
   "outputs": [
    {
     "name": "stdout",
     "output_type": "stream",
     "text": [
      "CreditScore : [619 608 502 699 850 645 822 376 501 684 528 497 476 549 635 616 653 587\n",
      " 726 732 636 510 669 846 577 756 571 574 411 591 533 553 520 722 475 490\n",
      " 804 582 472 465 556 834 660 776 829 637 550 698 585 788 655 601 656 725\n",
      " 511 614 742 687 555 603 751 581 735 661 675 738 813 657 604 519 664 678\n",
      " 757 416 665 777 543 506 493 652 750 729 646 647 808 524 769 730 515 773\n",
      " 814 710 413 623 670 622 785 605 479 685 538 562 721 628 668 828 674 625\n",
      " 432 770 758 795 686 789 589 461 584 579 663 682 793 691 485 650 754 535\n",
      " 716 539 706 586 631 717 800 683 704 615 667 484 480 578 512 606 597 778\n",
      " 514 525 715 580 807 521 759 516 711 618 643 671 689 620 676 572 695 592\n",
      " 567 694 547 594 673 610 767 763 712 703 662 659 523 772 545 634 739 771\n",
      " 681 544 696 766 727 693 557 531 498 651 791 733 811 707 714 782 775 799\n",
      " 602 744 588 747 583 627 731 629 438 642 806 474 559 429 680 749 734 644\n",
      " 626 649 805 718 840 630 654 762 568 613 522 737 648 443 640 540 460 593\n",
      " 801 611 802 745 483 690 492 709 705 560 752 701 537 487 596 702 486 724\n",
      " 548 464 790 534 748 494 590 468 509 818 816 536 753 774 621 569 658 798\n",
      " 641 542 692 639 765 570 638 599 632 779 527 564 833 504 842 508 417 598\n",
      " 741 607 761 848 546 439 755 760 526 713 700 666 566 495 688 612 477 427\n",
      " 839 819 720 459 503 624 529 563 482 796 445 746 786 554 672 787 499 844\n",
      " 450 815 838 803 736 633 600 679 517 792 743 488 421 841 708 507 505 456\n",
      " 435 561 518 565 728 784 552 609 764 697 723 551 444 719 496 541 830 812\n",
      " 677 420 595 617 809 500 826 434 513 478 797 363 399 463 780 452 575 837\n",
      " 794 824 428 823 781 849 489 431 457 768 831 359 820 573 576 558 817 449\n",
      " 440 415 821 530 350 446 425 740 481 783 358 845 451 458 469 423 404 836\n",
      " 473 835 466 491 351 827 843 365 532 414 453 471 401 810 832 470 447 422\n",
      " 825 430 436 426 408 847 418 437 410 454 407 455 462 386 405 383 395 467\n",
      " 433 442 424 448 441 367 412 382 373 419]\n",
      "Geography : ['France' 'Spain' 'Germany']\n",
      "Gender : ['Female' 'Male']\n",
      "Age : [42 41 39 43 44 50 29 27 31 24 34 25 35 45 58 32 38 46 36 33 40 51 61 49\n",
      " 37 19 66 56 26 21 55 75 22 30 28 65 48 52 57 73 47 54 72 20 67 79 62 53\n",
      " 80 59 68 23 60 70 63 64 18 82 69 74 71 76 77 88 85 84 78 81 92 83]\n",
      "Tenure : [ 2  1  8  7  4  6  3 10  5  9  0]\n",
      "Balance : [     0.    83807.86 159660.8  ...  57369.61  75075.31 130142.79]\n",
      "NumOfProducts : [1 3 2 4]\n",
      "HasCrCard : [1 0]\n",
      "IsActiveMember : [1 0]\n",
      "EstimatedSalary : [101348.88 112542.58 113931.57 ...  42085.58  92888.52  38190.78]\n",
      "Exited : [1 0]\n"
     ]
    }
   ],
   "source": [
    "# Identify which cols have categorical values by printing list of unique values in each column\n",
    "for col in df1:\n",
    "    print(col,':', df1[col].unique()) "
   ]
  },
  {
   "cell_type": "markdown",
   "metadata": {},
   "source": [
    "Above result shows us that Geography, Gender, HasCrCard and IsActiveMember are categorical variables.\n",
    "Exited is also categorical (target variable). We will drop it later."
   ]
  },
  {
   "cell_type": "code",
   "execution_count": 14,
   "metadata": {},
   "outputs": [
    {
     "data": {
      "text/html": [
       "<div>\n",
       "<style scoped>\n",
       "    .dataframe tbody tr th:only-of-type {\n",
       "        vertical-align: middle;\n",
       "    }\n",
       "\n",
       "    .dataframe tbody tr th {\n",
       "        vertical-align: top;\n",
       "    }\n",
       "\n",
       "    .dataframe thead th {\n",
       "        text-align: right;\n",
       "    }\n",
       "</style>\n",
       "<table border=\"1\" class=\"dataframe\">\n",
       "  <thead>\n",
       "    <tr style=\"text-align: right;\">\n",
       "      <th></th>\n",
       "      <th>CreditScore</th>\n",
       "      <th>Geography</th>\n",
       "      <th>Gender</th>\n",
       "      <th>Age</th>\n",
       "      <th>Tenure</th>\n",
       "      <th>Balance</th>\n",
       "      <th>NumOfProducts</th>\n",
       "      <th>HasCrCard</th>\n",
       "      <th>IsActiveMember</th>\n",
       "      <th>EstimatedSalary</th>\n",
       "      <th>Exited</th>\n",
       "    </tr>\n",
       "  </thead>\n",
       "  <tbody>\n",
       "    <tr>\n",
       "      <th>0</th>\n",
       "      <td>619</td>\n",
       "      <td>France</td>\n",
       "      <td>1</td>\n",
       "      <td>42</td>\n",
       "      <td>2</td>\n",
       "      <td>0.00</td>\n",
       "      <td>1</td>\n",
       "      <td>1</td>\n",
       "      <td>1</td>\n",
       "      <td>101348.88</td>\n",
       "      <td>1</td>\n",
       "    </tr>\n",
       "    <tr>\n",
       "      <th>1</th>\n",
       "      <td>608</td>\n",
       "      <td>Spain</td>\n",
       "      <td>1</td>\n",
       "      <td>41</td>\n",
       "      <td>1</td>\n",
       "      <td>83807.86</td>\n",
       "      <td>1</td>\n",
       "      <td>0</td>\n",
       "      <td>1</td>\n",
       "      <td>112542.58</td>\n",
       "      <td>0</td>\n",
       "    </tr>\n",
       "    <tr>\n",
       "      <th>2</th>\n",
       "      <td>502</td>\n",
       "      <td>France</td>\n",
       "      <td>1</td>\n",
       "      <td>42</td>\n",
       "      <td>8</td>\n",
       "      <td>159660.80</td>\n",
       "      <td>3</td>\n",
       "      <td>1</td>\n",
       "      <td>0</td>\n",
       "      <td>113931.57</td>\n",
       "      <td>1</td>\n",
       "    </tr>\n",
       "    <tr>\n",
       "      <th>3</th>\n",
       "      <td>699</td>\n",
       "      <td>France</td>\n",
       "      <td>1</td>\n",
       "      <td>39</td>\n",
       "      <td>1</td>\n",
       "      <td>0.00</td>\n",
       "      <td>2</td>\n",
       "      <td>0</td>\n",
       "      <td>0</td>\n",
       "      <td>93826.63</td>\n",
       "      <td>0</td>\n",
       "    </tr>\n",
       "    <tr>\n",
       "      <th>4</th>\n",
       "      <td>850</td>\n",
       "      <td>Spain</td>\n",
       "      <td>1</td>\n",
       "      <td>43</td>\n",
       "      <td>2</td>\n",
       "      <td>125510.82</td>\n",
       "      <td>1</td>\n",
       "      <td>1</td>\n",
       "      <td>1</td>\n",
       "      <td>79084.10</td>\n",
       "      <td>0</td>\n",
       "    </tr>\n",
       "    <tr>\n",
       "      <th>5</th>\n",
       "      <td>645</td>\n",
       "      <td>Spain</td>\n",
       "      <td>0</td>\n",
       "      <td>44</td>\n",
       "      <td>8</td>\n",
       "      <td>113755.78</td>\n",
       "      <td>2</td>\n",
       "      <td>1</td>\n",
       "      <td>0</td>\n",
       "      <td>149756.71</td>\n",
       "      <td>1</td>\n",
       "    </tr>\n",
       "    <tr>\n",
       "      <th>6</th>\n",
       "      <td>822</td>\n",
       "      <td>France</td>\n",
       "      <td>0</td>\n",
       "      <td>50</td>\n",
       "      <td>7</td>\n",
       "      <td>0.00</td>\n",
       "      <td>2</td>\n",
       "      <td>1</td>\n",
       "      <td>1</td>\n",
       "      <td>10062.80</td>\n",
       "      <td>0</td>\n",
       "    </tr>\n",
       "    <tr>\n",
       "      <th>7</th>\n",
       "      <td>376</td>\n",
       "      <td>Germany</td>\n",
       "      <td>1</td>\n",
       "      <td>29</td>\n",
       "      <td>4</td>\n",
       "      <td>115046.74</td>\n",
       "      <td>4</td>\n",
       "      <td>1</td>\n",
       "      <td>0</td>\n",
       "      <td>119346.88</td>\n",
       "      <td>1</td>\n",
       "    </tr>\n",
       "    <tr>\n",
       "      <th>8</th>\n",
       "      <td>501</td>\n",
       "      <td>France</td>\n",
       "      <td>0</td>\n",
       "      <td>44</td>\n",
       "      <td>4</td>\n",
       "      <td>142051.07</td>\n",
       "      <td>2</td>\n",
       "      <td>0</td>\n",
       "      <td>1</td>\n",
       "      <td>74940.50</td>\n",
       "      <td>0</td>\n",
       "    </tr>\n",
       "    <tr>\n",
       "      <th>9</th>\n",
       "      <td>684</td>\n",
       "      <td>France</td>\n",
       "      <td>0</td>\n",
       "      <td>27</td>\n",
       "      <td>2</td>\n",
       "      <td>134603.88</td>\n",
       "      <td>1</td>\n",
       "      <td>1</td>\n",
       "      <td>1</td>\n",
       "      <td>71725.73</td>\n",
       "      <td>0</td>\n",
       "    </tr>\n",
       "  </tbody>\n",
       "</table>\n",
       "</div>"
      ],
      "text/plain": [
       "   CreditScore Geography  Gender  Age  Tenure    Balance  NumOfProducts  \\\n",
       "0          619    France       1   42       2       0.00              1   \n",
       "1          608     Spain       1   41       1   83807.86              1   \n",
       "2          502    France       1   42       8  159660.80              3   \n",
       "3          699    France       1   39       1       0.00              2   \n",
       "4          850     Spain       1   43       2  125510.82              1   \n",
       "5          645     Spain       0   44       8  113755.78              2   \n",
       "6          822    France       0   50       7       0.00              2   \n",
       "7          376   Germany       1   29       4  115046.74              4   \n",
       "8          501    France       0   44       4  142051.07              2   \n",
       "9          684    France       0   27       2  134603.88              1   \n",
       "\n",
       "   HasCrCard  IsActiveMember  EstimatedSalary  Exited  \n",
       "0          1               1        101348.88       1  \n",
       "1          0               1        112542.58       0  \n",
       "2          1               0        113931.57       1  \n",
       "3          0               0         93826.63       0  \n",
       "4          1               1         79084.10       0  \n",
       "5          1               0        149756.71       1  \n",
       "6          1               1         10062.80       0  \n",
       "7          1               0        119346.88       1  \n",
       "8          0               1         74940.50       0  \n",
       "9          1               1         71725.73       0  "
      ]
     },
     "execution_count": 14,
     "metadata": {},
     "output_type": "execute_result"
    }
   ],
   "source": [
    "# Need to replace Female and Male with 0 and 1\n",
    "# We dont need a new col for this so using inplace=true param will update the existing DF col itself\n",
    "df1['Gender'].replace({'Female':1,'Male':0},inplace=True)\n",
    "df1.head(10)"
   ]
  },
  {
   "cell_type": "markdown",
   "metadata": {},
   "source": [
    "Geography will need one hot encoding as it is not binary and not ordinal."
   ]
  },
  {
   "cell_type": "code",
   "execution_count": 15,
   "metadata": {},
   "outputs": [
    {
     "data": {
      "text/plain": [
       "Index(['CreditScore', 'Gender', 'Age', 'Tenure', 'Balance', 'NumOfProducts',\n",
       "       'HasCrCard', 'IsActiveMember', 'EstimatedSalary', 'Exited',\n",
       "       'Geography_France', 'Geography_Germany', 'Geography_Spain'],\n",
       "      dtype='object')"
      ]
     },
     "execution_count": 15,
     "metadata": {},
     "output_type": "execute_result"
    }
   ],
   "source": [
    "df2 = pd.get_dummies(data=df1, columns=['Geography'])\n",
    "df2.columns"
   ]
  },
  {
   "cell_type": "code",
   "execution_count": 16,
   "metadata": {},
   "outputs": [
    {
     "data": {
      "text/html": [
       "<div>\n",
       "<style scoped>\n",
       "    .dataframe tbody tr th:only-of-type {\n",
       "        vertical-align: middle;\n",
       "    }\n",
       "\n",
       "    .dataframe tbody tr th {\n",
       "        vertical-align: top;\n",
       "    }\n",
       "\n",
       "    .dataframe thead th {\n",
       "        text-align: right;\n",
       "    }\n",
       "</style>\n",
       "<table border=\"1\" class=\"dataframe\">\n",
       "  <thead>\n",
       "    <tr style=\"text-align: right;\">\n",
       "      <th></th>\n",
       "      <th>CreditScore</th>\n",
       "      <th>Gender</th>\n",
       "      <th>Age</th>\n",
       "      <th>Tenure</th>\n",
       "      <th>Balance</th>\n",
       "      <th>NumOfProducts</th>\n",
       "      <th>HasCrCard</th>\n",
       "      <th>IsActiveMember</th>\n",
       "      <th>EstimatedSalary</th>\n",
       "      <th>Exited</th>\n",
       "      <th>Geography_France</th>\n",
       "      <th>Geography_Germany</th>\n",
       "      <th>Geography_Spain</th>\n",
       "    </tr>\n",
       "  </thead>\n",
       "  <tbody>\n",
       "    <tr>\n",
       "      <th>0</th>\n",
       "      <td>619</td>\n",
       "      <td>1</td>\n",
       "      <td>42</td>\n",
       "      <td>2</td>\n",
       "      <td>0.00</td>\n",
       "      <td>1</td>\n",
       "      <td>1</td>\n",
       "      <td>1</td>\n",
       "      <td>101348.88</td>\n",
       "      <td>1</td>\n",
       "      <td>1</td>\n",
       "      <td>0</td>\n",
       "      <td>0</td>\n",
       "    </tr>\n",
       "    <tr>\n",
       "      <th>1</th>\n",
       "      <td>608</td>\n",
       "      <td>1</td>\n",
       "      <td>41</td>\n",
       "      <td>1</td>\n",
       "      <td>83807.86</td>\n",
       "      <td>1</td>\n",
       "      <td>0</td>\n",
       "      <td>1</td>\n",
       "      <td>112542.58</td>\n",
       "      <td>0</td>\n",
       "      <td>0</td>\n",
       "      <td>0</td>\n",
       "      <td>1</td>\n",
       "    </tr>\n",
       "    <tr>\n",
       "      <th>2</th>\n",
       "      <td>502</td>\n",
       "      <td>1</td>\n",
       "      <td>42</td>\n",
       "      <td>8</td>\n",
       "      <td>159660.80</td>\n",
       "      <td>3</td>\n",
       "      <td>1</td>\n",
       "      <td>0</td>\n",
       "      <td>113931.57</td>\n",
       "      <td>1</td>\n",
       "      <td>1</td>\n",
       "      <td>0</td>\n",
       "      <td>0</td>\n",
       "    </tr>\n",
       "    <tr>\n",
       "      <th>3</th>\n",
       "      <td>699</td>\n",
       "      <td>1</td>\n",
       "      <td>39</td>\n",
       "      <td>1</td>\n",
       "      <td>0.00</td>\n",
       "      <td>2</td>\n",
       "      <td>0</td>\n",
       "      <td>0</td>\n",
       "      <td>93826.63</td>\n",
       "      <td>0</td>\n",
       "      <td>1</td>\n",
       "      <td>0</td>\n",
       "      <td>0</td>\n",
       "    </tr>\n",
       "    <tr>\n",
       "      <th>4</th>\n",
       "      <td>850</td>\n",
       "      <td>1</td>\n",
       "      <td>43</td>\n",
       "      <td>2</td>\n",
       "      <td>125510.82</td>\n",
       "      <td>1</td>\n",
       "      <td>1</td>\n",
       "      <td>1</td>\n",
       "      <td>79084.10</td>\n",
       "      <td>0</td>\n",
       "      <td>0</td>\n",
       "      <td>0</td>\n",
       "      <td>1</td>\n",
       "    </tr>\n",
       "  </tbody>\n",
       "</table>\n",
       "</div>"
      ],
      "text/plain": [
       "   CreditScore  Gender  Age  Tenure    Balance  NumOfProducts  HasCrCard  \\\n",
       "0          619       1   42       2       0.00              1          1   \n",
       "1          608       1   41       1   83807.86              1          0   \n",
       "2          502       1   42       8  159660.80              3          1   \n",
       "3          699       1   39       1       0.00              2          0   \n",
       "4          850       1   43       2  125510.82              1          1   \n",
       "\n",
       "   IsActiveMember  EstimatedSalary  Exited  Geography_France  \\\n",
       "0               1        101348.88       1                 1   \n",
       "1               1        112542.58       0                 0   \n",
       "2               0        113931.57       1                 1   \n",
       "3               0         93826.63       0                 1   \n",
       "4               1         79084.10       0                 0   \n",
       "\n",
       "   Geography_Germany  Geography_Spain  \n",
       "0                  0                0  \n",
       "1                  0                1  \n",
       "2                  0                0  \n",
       "3                  0                0  \n",
       "4                  0                1  "
      ]
     },
     "execution_count": 16,
     "metadata": {},
     "output_type": "execute_result"
    }
   ],
   "source": [
    "df2.head(5)"
   ]
  },
  {
   "cell_type": "markdown",
   "metadata": {},
   "source": [
    "### **Create training and test sets**"
   ]
  },
  {
   "cell_type": "markdown",
   "metadata": {},
   "source": [
    "Create the training and test datasets. We will perform feature scaling & handle class imbalance after this to prevent data leakage.\n"
   ]
  },
  {
   "cell_type": "code",
   "execution_count": 17,
   "metadata": {},
   "outputs": [],
   "source": [
    "# Create train and test datasets\n",
    "\n",
    "X = df2.drop('Exited',axis='columns')\n",
    "y = df2['Exited']\n",
    "# Use stratified sampling for representative distribution of churned and not churned customers as per original dataset\n",
    "from sklearn.model_selection import train_test_split\n",
    "X_train, X_test, y_train, y_test = train_test_split(X,y,test_size=0.2,random_state=5,stratify=df2['Exited'])"
   ]
  },
  {
   "cell_type": "markdown",
   "metadata": {},
   "source": [
    "### Scaling continuous variables\n"
   ]
  },
  {
   "cell_type": "markdown",
   "metadata": {},
   "source": [
    "#### Need for scaling\n",
    "Neural networks work by adjusting the weights and biases of the neurons to minimize the error between the predicted output and the actual output. This process involves calculating gradients and updating the weights using optimization algorithms like gradient descent.\n",
    "\n",
    "When the input features have different scales or units, it can cause issues during the training process. Features with larger scales can dominate the training process and overshadow the smaller-scaled features. This can lead to slow convergence and inefficient learning.\n",
    "\n",
    "By scaling the features, we bring all the input values to a similar range, typically between 0 and 1 or -1 and 1. This ensures that no feature dominates over the others and prevents any bias towards a particular feature. It also helps the model generalize well to new, unseen data.\n",
    "\n",
    "To scale the features, we can use techniques like min-max scaling or standardization (standard scaling). Min-max scaling brings the values within a specific range, while standardization transforms them to have zero mean and unit variance."
   ]
  },
  {
   "cell_type": "markdown",
   "metadata": {},
   "source": [
    "#### Perform scaling\n",
    "We opt for min-max scaling since it will transform each value in the column proportionally within the range [0,1]. \n",
    "This is the first scaler choice to transform a feature, as it will preserve the shape of the dataset (no distortion)."
   ]
  },
  {
   "cell_type": "code",
   "execution_count": 18,
   "metadata": {},
   "outputs": [
    {
     "name": "stdout",
     "output_type": "stream",
     "text": [
      "CreditScore : [0.498 0.728 0.866 0.548 0.482 0.68  0.456 0.79  0.772 0.298 0.    0.31\n",
      " 0.538 0.42  0.382 0.504 0.916 0.762 0.752 0.358 0.396 0.854 0.468 0.7\n",
      " 0.886 0.458 0.834 0.924 0.584 0.49  0.67  0.32  0.786 0.374 0.664 0.608\n",
      " 0.678 0.448 0.722 0.294 0.578 0.708 0.982 0.442 0.816 0.75  0.522 0.54\n",
      " 0.412 0.454 0.748 0.554 0.904 0.76  0.706 0.302 0.436 0.45  0.726 0.648\n",
      " 0.826 0.626 0.55  0.532 0.27  0.582 0.646 0.862 0.66  0.51  0.574 0.542\n",
      " 0.43  0.5   0.484 0.37  0.606 0.438 0.796 0.306 0.3   0.794 0.328 0.314\n",
      " 0.814 0.662 0.6   0.324 0.596 0.568 0.336 0.672 0.934 0.478 0.308 0.394\n",
      " 0.642 0.588 0.636 0.372 0.17  0.666 0.402 0.824 0.592 0.652 0.848 0.658\n",
      " 0.724 0.512 0.618 0.912 0.366 0.25  0.604 1.    0.842 0.942 0.502 0.734\n",
      " 0.676 0.572 0.742 0.704 0.85  0.86  0.288 0.696 0.492 0.702 0.278 0.44\n",
      " 0.388 0.556 0.778 0.788 0.616 0.452 0.312 0.472 0.622 0.69  0.408 0.732\n",
      " 0.566 0.418 0.89  0.838 0.528 0.98  0.894 0.73  0.95  0.524 0.586 0.78\n",
      " 0.612 0.52  0.896 0.428 0.48  0.346 0.818 0.846 0.932 0.576 0.432 0.956\n",
      " 0.828 0.736 0.544 0.444 0.782 0.398 0.638 0.242 0.674 0.256 0.878 0.628\n",
      " 0.766 0.758 0.386 0.64  0.712 0.656 0.81  0.252 0.87  0.064 0.35  0.446\n",
      " 0.414 0.964 0.798 0.342 0.8   0.644 0.602 0.268 0.236 0.668 0.198 0.754\n",
      " 0.192 0.83  0.364 0.802 0.864 0.424 0.508 0.474 0.518 0.56  0.764 0.4\n",
      " 0.634 0.26  0.284 0.57  0.872 0.562 0.714 0.792 0.624 0.694 0.416 0.84\n",
      " 0.53  0.94  0.514 0.746 0.74  0.812 0.254 0.36  0.558 0.688 0.486 0.494\n",
      " 0.14  0.506 0.496 0.686 0.47  0.682 0.318 0.756 0.296 0.304 0.698 0.926\n",
      " 0.858 0.684 0.216 0.476 0.77  0.434 0.19  0.868 0.354 0.65  0.62  0.61\n",
      " 0.526 0.462 0.34  0.368 0.564 0.876 0.594 0.174 0.938 0.718 0.784 0.71\n",
      " 0.406 0.38  0.362 0.466 0.516 0.464 0.378 0.488 0.262 0.422 0.208 0.906\n",
      " 0.376 0.59  0.188 0.914 0.888 0.228 0.774 0.344 0.892 0.998 0.97  0.944\n",
      " 0.632 0.988 0.918 0.91  0.316 0.332 0.776 0.58  0.536 0.82  0.266 0.692\n",
      " 0.334 0.716 0.806 0.348 0.63  0.598 0.292 0.882 0.384 0.46  0.72  0.29\n",
      " 0.258 0.768 0.246 0.178 0.654 0.974 0.244 0.356 0.276 0.39  0.248 0.874\n",
      " 0.928 0.844 0.282 0.352 0.908 0.534 0.168 0.546 0.614 0.808 0.968 0.164\n",
      " 0.552 0.744 0.958 0.33  0.836 0.832 0.804 0.326 0.232 0.148 0.426 0.322\n",
      " 0.946 0.41  0.224 0.884 0.126 0.93  0.2   0.404 0.286 0.156 0.134 0.046\n",
      " 0.978 0.392 0.856 0.936 0.994 0.23  0.144 0.922 0.28  0.852 0.24  0.176\n",
      " 0.154 0.88  0.222 0.338 0.226 0.976 0.238 0.214 0.966 0.202 0.15  0.948\n",
      " 0.902 0.898 0.962 0.274 0.272 0.996 0.984 0.128 0.136 0.952 0.22  0.264\n",
      " 0.034 0.194 0.99  0.122 0.218 0.92  0.21  0.212 0.954 0.738 0.822 0.16\n",
      " 0.13  0.9   0.204 0.146 0.986 0.972 0.234 0.052 0.166 0.186 0.162 0.18\n",
      " 0.108 0.206 0.158 0.152 0.172 0.132 0.018 0.12  0.116 0.142 0.992 0.114\n",
      " 0.196 0.016 0.96  0.102 0.124 0.09  0.11  0.026]\n",
      "Gender : [0 1]\n",
      "Age : [0.21621622 0.13513514 0.27027027 0.24324324 0.16216216 0.04054054\n",
      " 0.09459459 0.12162162 0.52702703 0.44594595 0.22972973 0.17567568\n",
      " 0.14864865 0.60810811 0.39189189 0.32432432 0.25675676 0.18918919\n",
      " 0.41891892 0.10810811 0.2027027  0.59459459 0.2972973  0.37837838\n",
      " 0.31081081 0.05405405 0.28378378 0.7972973  0.45945946 0.58108108\n",
      " 0.35135135 0.33783784 0.47297297 0.40540541 0.55405405 0.36486486\n",
      " 0.06756757 0.74324324 0.43243243 0.51351351 0.68918919 0.01351351\n",
      " 0.48648649 0.5        0.         0.89189189 0.54054054 0.08108108\n",
      " 0.63513514 0.7027027  0.64864865 0.56756757 0.62162162 0.75675676\n",
      " 0.66216216 0.72972973 0.71621622 0.02702703 0.67567568 0.78378378\n",
      " 0.82432432 0.87837838 0.81081081 0.77027027 0.83783784 1.\n",
      " 0.85135135 0.86486486 0.94594595]\n",
      "Tenure : [0.8 0.6 0.1 0.  0.5 1.  0.3 0.7 0.9 0.2 0.4]\n",
      "Balance : [0.         0.51481029 0.52375925 ... 0.59729883 0.7680866  0.43858295]\n",
      "NumOfProducts : [0.33333333 0.         0.66666667 1.        ]\n",
      "HasCrCard : [1 0]\n",
      "IsActiveMember : [1 0]\n",
      "EstimatedSalary : [0.87095803 0.33499946 0.40063784 ... 0.4928841  0.36445409 0.68997472]\n",
      "Geography_France : [1 0]\n",
      "Geography_Germany : [0 1]\n",
      "Geography_Spain : [0 1]\n"
     ]
    }
   ],
   "source": [
    "cols_to_scale = ['CreditScore',  'Age', 'Tenure', 'Balance', 'NumOfProducts', 'EstimatedSalary'] # these are the ones with continuous/ordinal values\n",
    "\n",
    "from sklearn.preprocessing import MinMaxScaler\n",
    "scaler = MinMaxScaler()\n",
    "X_train[cols_to_scale] = scaler.fit_transform(X_train[cols_to_scale])\n",
    "X_test[cols_to_scale] = scaler.fit_transform(X_test[cols_to_scale])\n",
    "\n",
    "\n",
    "for col in X_train:\n",
    "    print(col,':', X_train[col].unique()) \n"
   ]
  },
  {
   "cell_type": "markdown",
   "metadata": {},
   "source": [
    "### Class imbalance check & address"
   ]
  },
  {
   "cell_type": "code",
   "execution_count": 19,
   "metadata": {},
   "outputs": [
    {
     "data": {
      "text/plain": [
       "0    6370\n",
       "1    1630\n",
       "Name: Exited, dtype: int64"
      ]
     },
     "execution_count": 19,
     "metadata": {},
     "output_type": "execute_result"
    }
   ],
   "source": [
    "# Check distribution in target column (training data)\n",
    "y_train.value_counts()"
   ]
  },
  {
   "cell_type": "code",
   "execution_count": 20,
   "metadata": {},
   "outputs": [
    {
     "name": "stdout",
     "output_type": "stream",
     "text": [
      "59.25\n"
     ]
    }
   ],
   "source": [
    "# Find out percentage diff between no. of 0 records and no. of 1 records\n",
    "print(100*6370/(6370+1630) -100*1630/(6370+1630))"
   ]
  },
  {
   "cell_type": "markdown",
   "metadata": {},
   "source": [
    "Downsampling might lead to 59% reduction in amount of data which is a lot. Lets opt for oversampling."
   ]
  },
  {
   "cell_type": "code",
   "execution_count": 21,
   "metadata": {},
   "outputs": [],
   "source": [
    "# Checking versions of imblearn and sklearn owing to bug in imblearn. \n",
    "# pip show imbalanced-learn \n",
    "# pip show scikit-learn"
   ]
  },
  {
   "cell_type": "markdown",
   "metadata": {},
   "source": [
    "Bug in imblearn addressed by keeping import statement in separate cell and actual usage of oversampling class in separate cell."
   ]
  },
  {
   "cell_type": "code",
   "execution_count": 24,
   "metadata": {},
   "outputs": [],
   "source": [
    "from imblearn.over_sampling import ADASYN"
   ]
  },
  {
   "cell_type": "code",
   "execution_count": 25,
   "metadata": {},
   "outputs": [
    {
     "name": "stdout",
     "output_type": "stream",
     "text": [
      "Before\n",
      "0    6370\n",
      "1    1630\n",
      "Name: Exited, dtype: int64\n"
     ]
    },
    {
     "name": "stdout",
     "output_type": "stream",
     "text": [
      "After\n",
      "1    6863\n",
      "0    6370\n",
      "Name: Exited, dtype: int64\n"
     ]
    }
   ],
   "source": [
    "# ADASYN (Adaptive Synthetic algorithm) oversampling\n",
    "\n",
    "print('Before')\n",
    "print(y_train.value_counts())\n",
    "\n",
    "# Oversampling the training dataset only to prevent data leakage\n",
    "ada= ADASYN (random_state=130)\n",
    "X_train_ada, y_train_ada= ada.fit_resample(X_train, y_train)\n",
    "\n",
    "print('After')\n",
    "print(y_train_ada.value_counts())"
   ]
  },
  {
   "cell_type": "code",
   "execution_count": 26,
   "metadata": {},
   "outputs": [
    {
     "name": "stdout",
     "output_type": "stream",
     "text": [
      "Index(['CreditScore', 'Gender', 'Age', 'Tenure', 'Balance', 'NumOfProducts',\n",
      "       'HasCrCard', 'IsActiveMember', 'EstimatedSalary', 'Geography_France',\n",
      "       'Geography_Germany', 'Geography_Spain'],\n",
      "      dtype='object')\n",
      "12\n"
     ]
    }
   ],
   "source": [
    "print(X_train_ada.columns)\n",
    "print(len(X_train_ada.columns)) # No. of columns"
   ]
  },
  {
   "cell_type": "code",
   "execution_count": 27,
   "metadata": {},
   "outputs": [],
   "source": [
    "from imblearn.over_sampling import SMOTE"
   ]
  },
  {
   "cell_type": "code",
   "execution_count": 28,
   "metadata": {},
   "outputs": [
    {
     "name": "stdout",
     "output_type": "stream",
     "text": [
      "Before\n",
      "0    6370\n",
      "1    1630\n",
      "Name: Exited, dtype: int64\n",
      "After\n",
      "0    6370\n",
      "1    6370\n",
      "Name: Exited, dtype: int64\n"
     ]
    }
   ],
   "source": [
    "# SMOTE oversampling\n",
    "\n",
    "print('Before')\n",
    "print(y_train.value_counts())\n",
    "\n",
    "# Oversampling the training dataset only to prevent data leakage\n",
    "smt= SMOTE (random_state=130)\n",
    "X_train_smt, y_train_smt= smt.fit_resample(X_train, y_train)\n",
    "\n",
    "print('After')\n",
    "print(y_train_smt.value_counts())"
   ]
  },
  {
   "cell_type": "code",
   "execution_count": 29,
   "metadata": {},
   "outputs": [
    {
     "name": "stdout",
     "output_type": "stream",
     "text": [
      "(12740, 12)\n",
      "(12740,)\n"
     ]
    }
   ],
   "source": [
    "print(X_train_smt.shape)\n",
    "print(y_train_smt.shape)"
   ]
  },
  {
   "cell_type": "markdown",
   "metadata": {},
   "source": [
    "### Build a model (ANN) in tensorflow/keras"
   ]
  },
  {
   "cell_type": "code",
   "execution_count": 30,
   "metadata": {},
   "outputs": [],
   "source": [
    "import tensorflow as tf\n",
    "from tensorflow import keras\n",
    "\n"
   ]
  },
  {
   "cell_type": "code",
   "execution_count": 31,
   "metadata": {},
   "outputs": [
    {
     "data": {
      "text/plain": [
       "\"\\n#Trying out hyperparam variants\\nmodel = keras.Sequential([\\n    #relu activation function for hidden layer because the value is easy to compute\\n    keras.layers.Dense(20, input_shape=(12,), activation='relu'), # 12 neurons since there are 12 input variables\\n    \\n    keras.layers.Dense(8, activation='relu'),\\n    \\n    keras.layers.Dense(1, activation='sigmoid')\\n])\\n# Work with 50 epochs since not much change between 50 and 100\\n# 76% accuracy with learning rate=0.001 (default). Lets change to 0.01 and see if it improves.\\n# Didnt change much. Lets try Nadam optimizer instead of Adam.\\n\\nopt = keras.optimizers.Adam(learning_rate=0.01)\\n#opt = keras.optimizers.Nadam(learning_rate=0.01)\\n\\nmodel.compile(optimizer=opt,\\n #optimizer='adam',\\n              loss='binary_crossentropy',\\n              metrics=['accuracy'])\\n# Start with epochs=5, accuracy improves from 60% to 72%, but more epochs improve it further.\\n# Accuracy of 80% reached at 50 epochs, does not go beyond 80 even at 100 epochs.\\nmodel.fit(X_train_ada, y_train_ada, epochs=100)\\n\""
      ]
     },
     "execution_count": 31,
     "metadata": {},
     "output_type": "execute_result"
    }
   ],
   "source": [
    "'''\n",
    "#Trying out hyperparam variants\n",
    "model = keras.Sequential([\n",
    "    #relu activation function for hidden layer because the value is easy to compute\n",
    "    keras.layers.Dense(20, input_shape=(12,), activation='relu'), # 12 neurons since there are 12 input variables\n",
    "    \n",
    "    keras.layers.Dense(8, activation='relu'),\n",
    "    \n",
    "    keras.layers.Dense(1, activation='sigmoid')\n",
    "])\n",
    "# Work with 50 epochs since not much change between 50 and 100\n",
    "# 76% accuracy with learning rate=0.001 (default). Lets change to 0.01 and see if it improves.\n",
    "# Didnt change much. Lets try Nadam optimizer instead of Adam.\n",
    "\n",
    "opt = keras.optimizers.Adam(learning_rate=0.01)\n",
    "#opt = keras.optimizers.Nadam(learning_rate=0.01)\n",
    "\n",
    "model.compile(optimizer=opt,\n",
    " #optimizer='adam',\n",
    "              loss='binary_crossentropy',\n",
    "              metrics=['accuracy'])\n",
    "# Start with epochs=5, accuracy improves from 60% to 72%, but more epochs improve it further.\n",
    "# Accuracy of 80% reached at 50 epochs, does not go beyond 80 even at 100 epochs.\n",
    "model.fit(X_train_ada, y_train_ada, epochs=100)\n",
    "'''"
   ]
  },
  {
   "cell_type": "code",
   "execution_count": 32,
   "metadata": {},
   "outputs": [
    {
     "data": {
      "text/plain": [
       "\"\\n# Using ADA\\n# Accuracy of 80% reached with:\\n\\nmodel = keras.Sequential()\\nmodel.add(keras.layers.Dense(20, input_dim=12, activation='relu'))\\nmodel.add(keras.layers.Dense(12, activation='relu'))\\nmodel.add(keras.layers.Dense(20, activation='relu'))\\n# model.add(keras.layers.Dropout(0.5)) # Attempting dropout regularization \\nmodel.add(keras.layers.Dense(1, activation='sigmoid'))\\n\\n# opt = keras.optimizers.SGD(learning_rate=0.01)\\nopt = keras.optimizers.Adam(learning_rate=0.001)\\n# opt = keras.optimizers.Nadam(learning_rate=0.01)\\n\\nmodel.compile(optimizer=opt,\\n #optimizer='adam',\\n              loss='binary_crossentropy',\\n              metrics=['accuracy'])\\nmodel.fit(X_train_ada, y_train_ada, epochs=100)\\n\""
      ]
     },
     "execution_count": 32,
     "metadata": {},
     "output_type": "execute_result"
    }
   ],
   "source": [
    "'''\n",
    "# Using ADA\n",
    "# Accuracy of 80% reached with:\n",
    "\n",
    "model = keras.Sequential()\n",
    "model.add(keras.layers.Dense(20, input_dim=12, activation='relu'))\n",
    "model.add(keras.layers.Dense(12, activation='relu'))\n",
    "model.add(keras.layers.Dense(20, activation='relu'))\n",
    "# model.add(keras.layers.Dropout(0.5)) # Attempting dropout regularization \n",
    "model.add(keras.layers.Dense(1, activation='sigmoid'))\n",
    "\n",
    "# opt = keras.optimizers.SGD(learning_rate=0.01)\n",
    "opt = keras.optimizers.Adam(learning_rate=0.001)\n",
    "# opt = keras.optimizers.Nadam(learning_rate=0.01)\n",
    "\n",
    "model.compile(optimizer=opt,\n",
    " #optimizer='adam',\n",
    "              loss='binary_crossentropy',\n",
    "              metrics=['accuracy'])\n",
    "model.fit(X_train_ada, y_train_ada, epochs=100)\n",
    "'''"
   ]
  },
  {
   "cell_type": "code",
   "execution_count": null,
   "metadata": {},
   "outputs": [],
   "source": [
    "'''\n",
    "# Using SMOTE hyperparameter tuning attempts\n",
    "# Loss is much lower compared to ADASYN\n",
    "# Accuracy of 82% reached with:\n",
    "\n",
    "model = keras.Sequential()\n",
    "model.add(keras.layers.Dense(20, input_dim=12, activation='relu')) # We can use just 12 as no. of neurons but 20 is >12 and can be helpful to increase acc\n",
    "model.add(keras.layers.Dense(20, activation='relu')) \n",
    "model.add(keras.layers.Dense(20, activation='relu')) # attempting 20 instead of 12 neurons in 2nd layer, still 82%\n",
    "#attempting only 2 hidden layers to see if test acc improves\n",
    "# model.add(keras.layers.Dense(20, activation='relu')) # One more layer because why not\n",
    "# model.add(keras.layers.Dense(20, activation='relu')) # One more layer because why not. Trying 4th layer to see if acc exceeds 83.9. Yes!! 84.77% but might be overfitting. lets check test set acc.\n",
    "# model.add(keras.layers.Dropout(0.5)) # Dropout regularization led to 1% drop in accuracy so better to skip\n",
    "model.add(keras.layers.Dense(1, activation='sigmoid')) #Output layer\n",
    "\n",
    "# opt = keras.optimizers.SGD(learning_rate=0.01) #80% acc\n",
    "# opt = keras.optimizers.Nadam(learning_rate=0.01) #82% acc\n",
    "# opt = keras.optimizers.Adam(learning_rate=0.01) #82% acc\n",
    "opt = keras.optimizers.Adam(learning_rate=0.001) #attempting 0.001 LR to see if it goes beyond 82. Yes!! 83.9%\n",
    "\n",
    "\n",
    "model.compile(optimizer='adam',\n",
    "              #optimizer=opt,\n",
    "              loss='binary_crossentropy',\n",
    "              metrics=['accuracy'])\n",
    "model.fit(X_train_smt, y_train_smt, epochs=100)\n",
    "\n",
    "'''"
   ]
  },
  {
   "cell_type": "code",
   "execution_count": 60,
   "metadata": {},
   "outputs": [
    {
     "name": "stdout",
     "output_type": "stream",
     "text": [
      "Epoch 1/100\n",
      "399/399 [==============================] - 3s 4ms/step - loss: 0.6296 - accuracy: 0.6385\n",
      "Epoch 2/100\n",
      "399/399 [==============================] - 1s 3ms/step - loss: 0.5490 - accuracy: 0.7240\n",
      "Epoch 3/100\n",
      "399/399 [==============================] - 1s 3ms/step - loss: 0.5194 - accuracy: 0.7461\n",
      "Epoch 4/100\n",
      "399/399 [==============================] - 1s 3ms/step - loss: 0.5005 - accuracy: 0.7597\n",
      "Epoch 5/100\n",
      "399/399 [==============================] - 1s 3ms/step - loss: 0.4869 - accuracy: 0.7670\n",
      "Epoch 6/100\n",
      "399/399 [==============================] - 1s 3ms/step - loss: 0.4802 - accuracy: 0.7659\n",
      "Epoch 7/100\n",
      "399/399 [==============================] - 1s 4ms/step - loss: 0.4750 - accuracy: 0.7699\n",
      "Epoch 8/100\n",
      "399/399 [==============================] - 2s 4ms/step - loss: 0.4692 - accuracy: 0.7729\n",
      "Epoch 9/100\n",
      "399/399 [==============================] - 2s 4ms/step - loss: 0.4656 - accuracy: 0.7760\n",
      "Epoch 10/100\n",
      "399/399 [==============================] - 2s 4ms/step - loss: 0.4644 - accuracy: 0.7740\n",
      "Epoch 11/100\n",
      "399/399 [==============================] - 1s 3ms/step - loss: 0.4619 - accuracy: 0.7779\n",
      "Epoch 12/100\n",
      "399/399 [==============================] - 1s 3ms/step - loss: 0.4576 - accuracy: 0.7768\n",
      "Epoch 13/100\n",
      "399/399 [==============================] - 1s 3ms/step - loss: 0.4564 - accuracy: 0.7768\n",
      "Epoch 14/100\n",
      "399/399 [==============================] - 1s 4ms/step - loss: 0.4525 - accuracy: 0.7828\n",
      "Epoch 15/100\n",
      "399/399 [==============================] - 2s 4ms/step - loss: 0.4498 - accuracy: 0.7834\n",
      "Epoch 16/100\n",
      "399/399 [==============================] - 2s 4ms/step - loss: 0.4492 - accuracy: 0.7838\n",
      "Epoch 17/100\n",
      "399/399 [==============================] - 2s 4ms/step - loss: 0.4437 - accuracy: 0.7876\n",
      "Epoch 18/100\n",
      "399/399 [==============================] - 2s 4ms/step - loss: 0.4421 - accuracy: 0.7892\n",
      "Epoch 19/100\n",
      "399/399 [==============================] - 1s 3ms/step - loss: 0.4400 - accuracy: 0.7936\n",
      "Epoch 20/100\n",
      "399/399 [==============================] - 1s 3ms/step - loss: 0.4367 - accuracy: 0.7944\n",
      "Epoch 21/100\n",
      "399/399 [==============================] - 1s 4ms/step - loss: 0.4344 - accuracy: 0.7980\n",
      "Epoch 22/100\n",
      "399/399 [==============================] - 1s 4ms/step - loss: 0.4320 - accuracy: 0.8005\n",
      "Epoch 23/100\n",
      "399/399 [==============================] - 1s 4ms/step - loss: 0.4314 - accuracy: 0.7973\n",
      "Epoch 24/100\n",
      "399/399 [==============================] - 1s 4ms/step - loss: 0.4271 - accuracy: 0.8027\n",
      "Epoch 25/100\n",
      "399/399 [==============================] - 2s 4ms/step - loss: 0.4266 - accuracy: 0.8020\n",
      "Epoch 26/100\n",
      "399/399 [==============================] - 1s 3ms/step - loss: 0.4255 - accuracy: 0.8046\n",
      "Epoch 27/100\n",
      "399/399 [==============================] - 2s 4ms/step - loss: 0.4221 - accuracy: 0.8027\n",
      "Epoch 28/100\n",
      "399/399 [==============================] - 1s 4ms/step - loss: 0.4199 - accuracy: 0.8049\n",
      "Epoch 29/100\n",
      "399/399 [==============================] - 1s 3ms/step - loss: 0.4187 - accuracy: 0.8032\n",
      "Epoch 30/100\n",
      "399/399 [==============================] - 2s 4ms/step - loss: 0.4164 - accuracy: 0.8104\n",
      "Epoch 31/100\n",
      "399/399 [==============================] - 1s 4ms/step - loss: 0.4138 - accuracy: 0.8109\n",
      "Epoch 32/100\n",
      "399/399 [==============================] - 1s 3ms/step - loss: 0.4124 - accuracy: 0.8119\n",
      "Epoch 33/100\n",
      "399/399 [==============================] - 1s 3ms/step - loss: 0.4105 - accuracy: 0.8108\n",
      "Epoch 34/100\n",
      "399/399 [==============================] - 1s 3ms/step - loss: 0.4089 - accuracy: 0.8104\n",
      "Epoch 35/100\n",
      "399/399 [==============================] - 1s 4ms/step - loss: 0.4071 - accuracy: 0.8163\n",
      "Epoch 36/100\n",
      "399/399 [==============================] - 1s 3ms/step - loss: 0.4067 - accuracy: 0.8119\n",
      "Epoch 37/100\n",
      "399/399 [==============================] - 1s 3ms/step - loss: 0.4032 - accuracy: 0.8148\n",
      "Epoch 38/100\n",
      "399/399 [==============================] - 1s 4ms/step - loss: 0.4028 - accuracy: 0.8153\n",
      "Epoch 39/100\n",
      "399/399 [==============================] - 2s 4ms/step - loss: 0.3995 - accuracy: 0.8187\n",
      "Epoch 40/100\n",
      "399/399 [==============================] - 2s 4ms/step - loss: 0.3990 - accuracy: 0.8174\n",
      "Epoch 41/100\n",
      "399/399 [==============================] - 2s 4ms/step - loss: 0.3973 - accuracy: 0.8170\n",
      "Epoch 42/100\n",
      "399/399 [==============================] - 2s 4ms/step - loss: 0.3970 - accuracy: 0.8187\n",
      "Epoch 43/100\n",
      "399/399 [==============================] - 2s 4ms/step - loss: 0.3969 - accuracy: 0.8192\n",
      "Epoch 44/100\n",
      "399/399 [==============================] - 2s 4ms/step - loss: 0.3949 - accuracy: 0.8189\n",
      "Epoch 45/100\n",
      "399/399 [==============================] - 2s 4ms/step - loss: 0.3906 - accuracy: 0.8207\n",
      "Epoch 46/100\n",
      "399/399 [==============================] - 2s 4ms/step - loss: 0.3906 - accuracy: 0.8201\n",
      "Epoch 47/100\n",
      "399/399 [==============================] - 2s 4ms/step - loss: 0.3887 - accuracy: 0.8227\n",
      "Epoch 48/100\n",
      "399/399 [==============================] - 2s 4ms/step - loss: 0.3880 - accuracy: 0.8215\n",
      "Epoch 49/100\n",
      "399/399 [==============================] - 2s 4ms/step - loss: 0.3870 - accuracy: 0.8246\n",
      "Epoch 50/100\n",
      "399/399 [==============================] - 2s 4ms/step - loss: 0.3849 - accuracy: 0.8255\n",
      "Epoch 51/100\n",
      "399/399 [==============================] - 2s 4ms/step - loss: 0.3832 - accuracy: 0.8254\n",
      "Epoch 52/100\n",
      "399/399 [==============================] - 2s 4ms/step - loss: 0.3834 - accuracy: 0.8236\n",
      "Epoch 53/100\n",
      "399/399 [==============================] - 2s 4ms/step - loss: 0.3819 - accuracy: 0.8259\n",
      "Epoch 54/100\n",
      "399/399 [==============================] - 2s 4ms/step - loss: 0.3802 - accuracy: 0.8283\n",
      "Epoch 55/100\n",
      "399/399 [==============================] - 2s 4ms/step - loss: 0.3795 - accuracy: 0.8266\n",
      "Epoch 56/100\n",
      "399/399 [==============================] - 2s 4ms/step - loss: 0.3768 - accuracy: 0.8318\n",
      "Epoch 57/100\n",
      "399/399 [==============================] - 2s 4ms/step - loss: 0.3793 - accuracy: 0.8297\n",
      "Epoch 58/100\n",
      "399/399 [==============================] - 2s 4ms/step - loss: 0.3751 - accuracy: 0.8340\n",
      "Epoch 59/100\n",
      "399/399 [==============================] - 2s 4ms/step - loss: 0.3743 - accuracy: 0.8322\n",
      "Epoch 60/100\n",
      "399/399 [==============================] - 2s 4ms/step - loss: 0.3749 - accuracy: 0.8294\n",
      "Epoch 61/100\n",
      "399/399 [==============================] - 2s 4ms/step - loss: 0.3715 - accuracy: 0.8297\n",
      "Epoch 62/100\n",
      "399/399 [==============================] - 2s 4ms/step - loss: 0.3745 - accuracy: 0.8320\n",
      "Epoch 63/100\n",
      "399/399 [==============================] - 2s 4ms/step - loss: 0.3718 - accuracy: 0.8326\n",
      "Epoch 64/100\n",
      "399/399 [==============================] - 2s 4ms/step - loss: 0.3731 - accuracy: 0.8343\n",
      "Epoch 65/100\n",
      "399/399 [==============================] - 2s 4ms/step - loss: 0.3697 - accuracy: 0.8328\n",
      "Epoch 66/100\n",
      "399/399 [==============================] - 2s 4ms/step - loss: 0.3703 - accuracy: 0.8320\n",
      "Epoch 67/100\n",
      "399/399 [==============================] - 2s 4ms/step - loss: 0.3696 - accuracy: 0.8327\n",
      "Epoch 68/100\n",
      "399/399 [==============================] - 2s 4ms/step - loss: 0.3699 - accuracy: 0.8314\n",
      "Epoch 69/100\n",
      "399/399 [==============================] - 2s 4ms/step - loss: 0.3688 - accuracy: 0.8311\n",
      "Epoch 70/100\n",
      "399/399 [==============================] - 2s 4ms/step - loss: 0.3672 - accuracy: 0.8334\n",
      "Epoch 71/100\n",
      "399/399 [==============================] - 2s 4ms/step - loss: 0.3672 - accuracy: 0.8368\n",
      "Epoch 72/100\n",
      "399/399 [==============================] - 2s 4ms/step - loss: 0.3675 - accuracy: 0.8353\n",
      "Epoch 73/100\n",
      "399/399 [==============================] - 2s 4ms/step - loss: 0.3646 - accuracy: 0.8326\n",
      "Epoch 74/100\n",
      "399/399 [==============================] - 2s 4ms/step - loss: 0.3679 - accuracy: 0.8341\n",
      "Epoch 75/100\n",
      "399/399 [==============================] - 2s 4ms/step - loss: 0.3654 - accuracy: 0.8359\n",
      "Epoch 76/100\n",
      "399/399 [==============================] - 2s 4ms/step - loss: 0.3632 - accuracy: 0.8381\n",
      "Epoch 77/100\n",
      "399/399 [==============================] - 2s 4ms/step - loss: 0.3643 - accuracy: 0.8356\n",
      "Epoch 78/100\n",
      "399/399 [==============================] - 2s 4ms/step - loss: 0.3640 - accuracy: 0.8373\n",
      "Epoch 79/100\n",
      "399/399 [==============================] - 1s 4ms/step - loss: 0.3637 - accuracy: 0.8404\n",
      "Epoch 80/100\n",
      "399/399 [==============================] - 2s 4ms/step - loss: 0.3633 - accuracy: 0.8359\n",
      "Epoch 81/100\n",
      "399/399 [==============================] - 2s 4ms/step - loss: 0.3618 - accuracy: 0.8356\n",
      "Epoch 82/100\n",
      "399/399 [==============================] - 2s 4ms/step - loss: 0.3629 - accuracy: 0.8378\n",
      "Epoch 83/100\n",
      "399/399 [==============================] - 2s 4ms/step - loss: 0.3622 - accuracy: 0.8377\n",
      "Epoch 84/100\n",
      "399/399 [==============================] - 2s 4ms/step - loss: 0.3583 - accuracy: 0.8381\n",
      "Epoch 85/100\n",
      "399/399 [==============================] - 2s 4ms/step - loss: 0.3611 - accuracy: 0.8403\n",
      "Epoch 86/100\n",
      "399/399 [==============================] - 2s 4ms/step - loss: 0.3589 - accuracy: 0.8389\n",
      "Epoch 87/100\n",
      "399/399 [==============================] - 2s 4ms/step - loss: 0.3594 - accuracy: 0.8408\n",
      "Epoch 88/100\n",
      "399/399 [==============================] - 2s 4ms/step - loss: 0.3587 - accuracy: 0.8402\n",
      "Epoch 89/100\n",
      "399/399 [==============================] - 2s 4ms/step - loss: 0.3585 - accuracy: 0.8397\n",
      "Epoch 90/100\n",
      "399/399 [==============================] - 2s 4ms/step - loss: 0.3561 - accuracy: 0.8442\n",
      "Epoch 91/100\n",
      "399/399 [==============================] - 2s 4ms/step - loss: 0.3564 - accuracy: 0.8436\n",
      "Epoch 92/100\n",
      "399/399 [==============================] - 2s 4ms/step - loss: 0.3569 - accuracy: 0.8406\n",
      "Epoch 93/100\n",
      "399/399 [==============================] - 2s 4ms/step - loss: 0.3556 - accuracy: 0.8409\n",
      "Epoch 94/100\n",
      "399/399 [==============================] - 2s 4ms/step - loss: 0.3562 - accuracy: 0.8404\n",
      "Epoch 95/100\n",
      "399/399 [==============================] - 2s 4ms/step - loss: 0.3557 - accuracy: 0.8398\n",
      "Epoch 96/100\n",
      "399/399 [==============================] - 2s 4ms/step - loss: 0.3561 - accuracy: 0.8404\n",
      "Epoch 97/100\n",
      "399/399 [==============================] - 2s 4ms/step - loss: 0.3539 - accuracy: 0.8412\n",
      "Epoch 98/100\n",
      "399/399 [==============================] - 2s 4ms/step - loss: 0.3538 - accuracy: 0.8436\n",
      "Epoch 99/100\n",
      "399/399 [==============================] - 2s 4ms/step - loss: 0.3555 - accuracy: 0.8410\n",
      "Epoch 100/100\n",
      "399/399 [==============================] - 2s 4ms/step - loss: 0.3520 - accuracy: 0.8470\n"
     ]
    },
    {
     "data": {
      "text/plain": [
       "<keras.callbacks.History at 0x1fd76c338b0>"
      ]
     },
     "execution_count": 60,
     "metadata": {},
     "output_type": "execute_result"
    }
   ],
   "source": [
    "# Using SMOTE\n",
    "\n",
    "model = keras.Sequential()\n",
    "model.add(keras.layers.Dense(20, input_dim=12, activation='relu')) # We can use just 12 as no. of neurons but 20 is >12 and can be helpful to increase acc\n",
    "model.add(keras.layers.Dense(20, activation='relu')) # hidden layer 1\n",
    "model.add(keras.layers.Dense(20, activation='relu')) # hidden layer 2\n",
    "model.add(keras.layers.Dense(1, activation='sigmoid')) #Output layer\n",
    "\n",
    "model.compile(optimizer='adam',\n",
    "              \n",
    "              loss='binary_crossentropy',\n",
    "              metrics=['accuracy'])\n",
    "model.fit(X_train_smt, y_train_smt, epochs=100)"
   ]
  },
  {
   "cell_type": "code",
   "execution_count": 61,
   "metadata": {},
   "outputs": [
    {
     "name": "stdout",
     "output_type": "stream",
     "text": [
      "Model: \"sequential_5\"\n",
      "_________________________________________________________________\n",
      " Layer (type)                Output Shape              Param #   \n",
      "=================================================================\n",
      " dense_16 (Dense)            (None, 20)                260       \n",
      "                                                                 \n",
      " dense_17 (Dense)            (None, 20)                420       \n",
      "                                                                 \n",
      " dense_18 (Dense)            (None, 20)                420       \n",
      "                                                                 \n",
      " dense_19 (Dense)            (None, 1)                 21        \n",
      "                                                                 \n",
      "=================================================================\n",
      "Total params: 1,121\n",
      "Trainable params: 1,121\n",
      "Non-trainable params: 0\n",
      "_________________________________________________________________\n"
     ]
    }
   ],
   "source": [
    "model.summary()"
   ]
  },
  {
   "cell_type": "code",
   "execution_count": 62,
   "metadata": {},
   "outputs": [
    {
     "name": "stdout",
     "output_type": "stream",
     "text": [
      "63/63 [==============================] - 1s 3ms/step - loss: 0.4015 - accuracy: 0.8160\n"
     ]
    },
    {
     "data": {
      "text/plain": [
       "[0.40148842334747314, 0.8159999847412109]"
      ]
     },
     "execution_count": 62,
     "metadata": {},
     "output_type": "execute_result"
    }
   ],
   "source": [
    "model.evaluate(X_test,y_test)"
   ]
  },
  {
   "cell_type": "code",
   "execution_count": 63,
   "metadata": {},
   "outputs": [
    {
     "name": "stdout",
     "output_type": "stream",
     "text": [
      "63/63 [==============================] - 0s 2ms/step\n"
     ]
    },
    {
     "data": {
      "text/plain": [
       "array([[0.3365037 ],\n",
       "       [0.1944746 ],\n",
       "       [0.7337061 ],\n",
       "       [0.0020992 ],\n",
       "       [0.00832183],\n",
       "       [0.06457309],\n",
       "       [0.34957606],\n",
       "       [0.73704076],\n",
       "       [0.05103967],\n",
       "       [0.97345144]], dtype=float32)"
      ]
     },
     "execution_count": 63,
     "metadata": {},
     "output_type": "execute_result"
    }
   ],
   "source": [
    "y_predicted=model.predict(X_test)\n",
    "# type(y_predicted) y_predicted is in form of 2D numpy array\n",
    "# Printing the first 10 predictions\n",
    "y_predicted[:10]"
   ]
  },
  {
   "cell_type": "code",
   "execution_count": 64,
   "metadata": {},
   "outputs": [
    {
     "data": {
      "text/plain": [
       "2239    1\n",
       "1502    0\n",
       "2221    1\n",
       "6593    0\n",
       "9666    0\n",
       "4843    0\n",
       "2266    1\n",
       "3580    0\n",
       "9763    0\n",
       "3130    1\n",
       "Name: Exited, dtype: int64"
      ]
     },
     "execution_count": 64,
     "metadata": {},
     "output_type": "execute_result"
    }
   ],
   "source": [
    "# Because the predictions are based on sigmoid function, values are between 0 and 1.\n",
    "# But we want them as either 0 or 1 as per our target variable y_test.\n",
    "\n",
    "y_test[:10]"
   ]
  },
  {
   "cell_type": "markdown",
   "metadata": {},
   "source": [
    "So we convert our 2D prediction array into 1D array with 0 or 1 values based on whether the predicted value crosses a threshold of 0.5\n",
    "If yes, then its 1 (Exited). If no, then its 0 (Not Exited)."
   ]
  },
  {
   "cell_type": "code",
   "execution_count": 65,
   "metadata": {},
   "outputs": [
    {
     "data": {
      "text/plain": [
       "[0, 0, 1, 0, 0, 0, 0, 1, 0, 1]"
      ]
     },
     "execution_count": 65,
     "metadata": {},
     "output_type": "execute_result"
    }
   ],
   "source": [
    "final_y_predicted=[]\n",
    "for item in y_predicted:\n",
    "    if item > 0.5:\n",
    "        final_y_predicted.append(1)\n",
    "    else:\n",
    "        final_y_predicted.append(0)\n",
    "final_y_predicted[:10]"
   ]
  },
  {
   "cell_type": "code",
   "execution_count": 66,
   "metadata": {},
   "outputs": [
    {
     "name": "stdout",
     "output_type": "stream",
     "text": [
      "Test y values:  [1, 0, 1, 0, 0, 0, 1, 0, 0, 1]\n",
      "Predicted y:  [0, 0, 1, 0, 0, 0, 0, 1, 0, 1]\n"
     ]
    }
   ],
   "source": [
    "print ('Test y values: ', list(y_test[:10]))\n",
    "print ('Predicted y: ', final_y_predicted[:10])\n"
   ]
  },
  {
   "cell_type": "code",
   "execution_count": 67,
   "metadata": {},
   "outputs": [
    {
     "name": "stdout",
     "output_type": "stream",
     "text": [
      "              precision    recall  f1-score   support\n",
      "\n",
      "           0       0.92      0.85      0.88      1593\n",
      "           1       0.54      0.69      0.61       407\n",
      "\n",
      "    accuracy                           0.82      2000\n",
      "   macro avg       0.73      0.77      0.74      2000\n",
      "weighted avg       0.84      0.82      0.82      2000\n",
      "\n"
     ]
    }
   ],
   "source": [
    "from sklearn.metrics import confusion_matrix , classification_report\n",
    "\n",
    "\n",
    "print(classification_report(y_test,final_y_predicted))\n"
   ]
  },
  {
   "cell_type": "code",
   "execution_count": 68,
   "metadata": {},
   "outputs": [
    {
     "data": {
      "text/plain": [
       "Text(69.0, 0.5, 'Truth')"
      ]
     },
     "execution_count": 68,
     "metadata": {},
     "output_type": "execute_result"
    },
    {
     "data": {
      "image/png": "[encoded data removed]",
      "text/plain": [
       "<Figure size 720x504 with 2 Axes>"
      ]
     },
     "metadata": {
      "needs_background": "light"
     },
     "output_type": "display_data"
    }
   ],
   "source": [
    "import seaborn as sn\n",
    "cm = tf.math.confusion_matrix(labels=y_test,predictions=final_y_predicted)\n",
    "\n",
    "plt.figure(figsize = (10,7))\n",
    "sn.heatmap(cm, annot=True, fmt='d')\n",
    "plt.xlabel('Predicted')\n",
    "plt.ylabel('Truth')"
   ]
  },
  {
   "cell_type": "code",
   "execution_count": 71,
   "metadata": {},
   "outputs": [
    {
     "name": "stdout",
     "output_type": "stream",
     "text": [
      "Accuracy (%) =  81.6\n"
     ]
    }
   ],
   "source": [
    "acc= (1350+282)/(1350+282+125+243)\n",
    "print ('Accuracy (%) = ',acc*100)"
   ]
  },
  {
   "cell_type": "code",
   "execution_count": 75,
   "metadata": {},
   "outputs": [
    {
     "name": "stdout",
     "output_type": "stream",
     "text": [
      "AUC-ROC Curve for Random Forest with Class weights: 0.7702\n"
     ]
    }
   ],
   "source": [
    "from sklearn.metrics import roc_auc_score\n",
    "ROCAUCscore = roc_auc_score(y_test, final_y_predicted)\n",
    "print(f\"AUC-ROC Curve for Random Forest with Class weights: {ROCAUCscore:.4f}\")"
   ]
  }
 ],
 "metadata": {
  "kernelspec": {
   "display_name": "base",
   "language": "python",
   "name": "python3"
  },
  "language_info": {
   "codemirror_mode": {
    "name": "ipython",
    "version": 3
   },
   "file_extension": ".py",
   "mimetype": "text/x-python",
   "name": "python",
   "nbconvert_exporter": "python",
   "pygments_lexer": "ipython3",
   "version": "3.8.13"
  }
 },
 "nbformat": 4,
 "nbformat_minor": 2
}
